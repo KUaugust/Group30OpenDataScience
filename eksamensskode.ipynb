{
 "cells": [
  {
   "cell_type": "code",
   "execution_count": 1,
   "id": "959dbc13-6eb3-4caf-a68d-6095f1a81f93",
   "metadata": {},
   "outputs": [],
   "source": [
    "#Importing packages\n",
    "import requests\n",
    "import bs4 as bs\n",
    "import pandas as pd\n",
    "import re\n",
    "import datetime\n",
    "from datetime import datetime\n",
    "# Getting the URL\n",
    "url = 'https://en.wikipedia.org/wiki/List_of_post%E2%80%932016_election_Donald_Trump_rallies'\n",
    "response = requests.get(url, headers={'name': 'Laurits Harbom Marcussen', 'email': 'zhg932@alumni.ku.dk'})\n",
    "soup = bs.BeautifulSoup(response.content, 'lxml') # Get the HTML of the website\n",
    "tables = soup.find_all('table')"
   ]
  },
  {
   "cell_type": "code",
   "execution_count": 2,
   "id": "2af119b7-af4c-4dfc-a848-f02180550b6e",
   "metadata": {
    "tags": []
   },
   "outputs": [
    {
     "data": {
      "text/plain": [
       "0     2020-06-20\n",
       "1     2020-06-23\n",
       "2     2020-08-17\n",
       "3     2020-08-17\n",
       "4     2020-08-18\n",
       "         ...    \n",
       "65    2020-11-02\n",
       "66    2020-11-02\n",
       "67    2020-12-05\n",
       "68    2021-01-04\n",
       "69    2021-01-06\n",
       "Name: Date of rally, Length: 70, dtype: object"
      ]
     },
     "execution_count": 2,
     "metadata": {},
     "output_type": "execute_result"
    }
   ],
   "source": [
    "#Converts html's to dataframes, convert lists to dataframe\n",
    "df=pd.read_html(str(tables))\n",
    "df1=pd.DataFrame(df[8])\n",
    "df2=pd.DataFrame(df[9])\n",
    "\n",
    "#Isolate the \"Date of rally2 columns, and combine the 2 tables\n",
    "dates = pd.concat([df1[\"Date of rally\"], df2[\"Date of rally\"]])\n",
    "dates = dates.reset_index(drop=True)\n",
    "\n",
    "#Cleans wiki-data\n",
    "def clean():\n",
    "    for i in range(len(dates)):\n",
    "        dates[i] = re.sub(r'\\[\\d+\\]', '', dates[i])\n",
    "        date_list = dates[i].split(',') # # Removing the weekday and the comma from the strings by splitting the strings and merging them again\n",
    "        dates[i] = ''.join(date_list[1:])\n",
    "        dates[i] = pd.to_datetime(dates[i]).strftime('%Y-%m-%d') # Converting to datetime format\n",
    "    return dates\n",
    "clean()"
   ]
  },
  {
   "cell_type": "code",
   "execution_count": 3,
   "id": "5f71a86d-18a4-4fc5-bea8-1260990a53c0",
   "metadata": {},
   "outputs": [],
   "source": [
    "#Craeting a list of all the dates we wanna analyze\n",
    "all_dates = pd.date_range(start='6/01/2020', end='2/01/2021')\n",
    "date_list = all_dates.strftime('%Y-%m-%d')\n",
    "s = pd.Series(date_list)"
   ]
  },
  {
   "cell_type": "code",
   "execution_count": 4,
   "id": "c42c6a52-2135-41b9-87b5-363eb7866181",
   "metadata": {},
   "outputs": [],
   "source": [
    "#Comparing the list of all dates and the list of rally dates, and making a binary list of coinciding dates\n",
    "binary_list = []\n",
    "for i in s:\n",
    "    if i in dates.values: \n",
    "        binary_list.append(1)\n",
    "    else: \n",
    "        binary_list.append(0)\n",
    "binaries = pd.Series(binary_list)"
   ]
  }
 ],
 "metadata": {
  "kernelspec": {
   "display_name": "Python 3 (ipykernel)",
   "language": "python",
   "name": "python3"
  },
  "language_info": {
   "codemirror_mode": {
    "name": "ipython",
    "version": 3
   },
   "file_extension": ".py",
   "mimetype": "text/x-python",
   "name": "python",
   "nbconvert_exporter": "python",
   "pygments_lexer": "ipython3",
   "version": "3.9.12"
  }
 },
 "nbformat": 4,
 "nbformat_minor": 5
}
