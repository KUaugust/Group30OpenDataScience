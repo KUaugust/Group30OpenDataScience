{
 "cells": [
  {
   "cell_type": "code",
   "execution_count": 3,
   "metadata": {},
   "outputs": [
    {
     "name": "stderr",
     "output_type": "stream",
     "text": [
      "[nltk_data] Downloading package vader_lexicon to\n",
      "[nltk_data]     C:\\Users\\matth\\AppData\\Roaming\\nltk_data...\n",
      "[nltk_data]   Package vader_lexicon is already up-to-date!\n"
     ]
    }
   ],
   "source": [
    "#Things to import\n",
    "from selenium import webdriver\n",
    "from selenium.webdriver.common.keys import Keys\n",
    "from selenium.webdriver.common.by import By\n",
    "import time, tqdm, json, re, requests, os, csv\n",
    "from bs4 import BeautifulSoup\n",
    "import pandas as pd\n",
    "import numpy as np\n",
    "import matplotlib.pyplot as plt \n",
    "import snscrape.modules.twitter as sntwitter\n",
    "import nltk\n",
    "from nltk.sentiment.vader import SentimentIntensityAnalyzer\n",
    "nltk.download('vader_lexicon')\n",
    "import seaborn as sns"
   ]
  },
  {
   "cell_type": "markdown",
   "metadata": {},
   "source": [
    "### Get #stopthesteal"
   ]
  },
  {
   "cell_type": "code",
   "execution_count": 4,
   "metadata": {},
   "outputs": [],
   "source": [
    "def log(tweet, logfile,output_path=os.getcwd()):\n",
    "    \"\"\"Logging function to create a log of the scraping status\"\"\"\n",
    "    #Open or create the csv log file\n",
    "    if os.path.isfile(logfile):\n",
    "        log = open(logfile,'a')\n",
    "    else:\n",
    "        log = open(logfile, 'w')\n",
    "        header = ['timestamp', 'status_code', 'length', 'output_file']\n",
    "        log.write(';'.join(header) + '\\n')\n",
    "    \n",
    "    #Get log information\n",
    "    #If the tweet did not fail, the status code is 200\n",
    "    status_code = 200\n",
    "    timestamp = time.strftime('%Y-%m-%d %H:%M:%S', time.localtime(time.time()))\n",
    "    #Should be 27 values along with the tweet\n",
    "    length = len(tweet)\n",
    "    \n",
    "    #append to log file\n",
    "    with open(logfile, 'a') as log:\n",
    "        log.write(f'{timestamp};{status_code};{length};{output_path}' + \"\\n\")\n",
    "        "
   ]
  },
  {
   "cell_type": "code",
   "execution_count": 2,
   "metadata": {},
   "outputs": [],
   "source": [
    "#21/05/2020 -> 05/02/2021\n",
    "#21 Maj - 5 Feb\n",
    "query = \"(#stopthesteal) lang:en until:2021-02-06 since:2020-05-21\"\n",
    "#test_query = \"(#stopthesteal) lang:en until:2021-01-07 since:2021-01-05\"\n",
    "tweets = []"
   ]
  },
  {
   "cell_type": "code",
   "execution_count": 4,
   "metadata": {},
   "outputs": [
    {
     "name": "stderr",
     "output_type": "stream",
     "text": [
      "172455it [2:23:29, 20.03it/s]\n"
     ]
    }
   ],
   "source": [
    "#Getting the tweets:\n",
    "logfile = 'tweet_scrape_log.csv'\n",
    "for tweet in tqdm.tqdm(sntwitter.TwitterSearchScraper(query).get_items()):\n",
    "    try:\n",
    "        tweets.append([tweet.date, tweet.content])\n",
    "    except Exception as e:\n",
    "        print('Something went wrong')\n",
    "        print(e)\n",
    "        print(f'Last tweet: {tweet.date} {tweet.content}')\n",
    "        with open('tweets_backup.csv', 'w', encoding='utf8') as f:\n",
    "            write = csv.writer(f)\n",
    "            write.writerow(['datetime', 'text'])\n",
    "            write.writerows(tweets)\n",
    "        continue\n",
    "    log(vars(tweet), logfile)"
   ]
  },
  {
   "cell_type": "code",
   "execution_count": 5,
   "metadata": {},
   "outputs": [],
   "source": [
    "#If everything went to plan, save the list as a csv\n",
    "with open('tweets.csv', 'w', encoding='utf8') as f:\n",
    "    write = csv.writer(f)\n",
    "    write.writerow(['datetime', 'text'])\n",
    "    write.writerows(tweets)"
   ]
  },
  {
   "cell_type": "code",
   "execution_count": 6,
   "metadata": {},
   "outputs": [],
   "source": [
    "#Get dataframe from csv\n",
    "df_tweets = pd.read_csv('tweets.csv')\n",
    "df_tweets['datetime'] = pd.to_datetime(df_tweets['datetime'])"
   ]
  },
  {
   "cell_type": "markdown",
   "metadata": {},
   "source": [
    "### Get #Trump2020"
   ]
  },
  {
   "cell_type": "code",
   "execution_count": 22,
   "metadata": {},
   "outputs": [],
   "source": [
    "#21/05/2020 -> 05/02/2021\n",
    "#21 Maj - 5 Feb\n",
    "query = \"(#Trump2020) lang:en until:2021-10-01 since:2020-05-21\"\n",
    "tweets_Trump2020 = []"
   ]
  },
  {
   "cell_type": "code",
   "execution_count": 21,
   "metadata": {},
   "outputs": [
    {
     "data": {
      "text/plain": [
       "[[datetime.datetime(2021, 2, 5, 23, 45, 57, tzinfo=datetime.timezone.utc),\n",
       "  'I have seen the results on my poll and will spend some time searching for places where you can get Trump stuff. I will look for free stuff if I can as well as paid 🇺🇸God bless you my fellow patriots🇺🇸 #Trump #MAGA #Trump2020 #Patriots #Patriotparty'],\n",
       " [datetime.datetime(2021, 2, 5, 23, 44, 48, tzinfo=datetime.timezone.utc),\n",
       "  'Now they admit it was rigged #Trump2020 #DrainTheSwamp\\nTime Mag Reveals Secret ‘Cabal’ to Prevent Trump 2020 Win | The News &amp; W... https://t.co/oP3JnuBGDW via @YouTube']]"
      ]
     },
     "execution_count": 21,
     "metadata": {},
     "output_type": "execute_result"
    }
   ],
   "source": [
    "tweets_part_1[:2]"
   ]
  },
  {
   "cell_type": "code",
   "execution_count": 23,
   "metadata": {},
   "outputs": [
    {
     "name": "stderr",
     "output_type": "stream",
     "text": [
      "21165it [18:09, 19.43it/s]\n"
     ]
    },
    {
     "ename": "KeyboardInterrupt",
     "evalue": "",
     "output_type": "error",
     "traceback": [
      "\u001b[1;31m---------------------------------------------------------------------------\u001b[0m",
      "\u001b[1;31mKeyboardInterrupt\u001b[0m                         Traceback (most recent call last)",
      "Input \u001b[1;32mIn [23]\u001b[0m, in \u001b[0;36m<cell line: 3>\u001b[1;34m()\u001b[0m\n\u001b[0;32m      1\u001b[0m \u001b[38;5;66;03m#Getting the tweets:\u001b[39;00m\n\u001b[0;32m      2\u001b[0m logfile \u001b[38;5;241m=\u001b[39m \u001b[38;5;124m'\u001b[39m\u001b[38;5;124mtweet_scrape_log_Trump2020_2.csv\u001b[39m\u001b[38;5;124m'\u001b[39m\n\u001b[1;32m----> 3\u001b[0m \u001b[38;5;28;01mfor\u001b[39;00m tweet \u001b[38;5;129;01min\u001b[39;00m tqdm\u001b[38;5;241m.\u001b[39mtqdm(sntwitter\u001b[38;5;241m.\u001b[39mTwitterSearchScraper(query)\u001b[38;5;241m.\u001b[39mget_items()):\n\u001b[0;32m      4\u001b[0m     \u001b[38;5;28;01mtry\u001b[39;00m:\n\u001b[0;32m      5\u001b[0m         tweets_Trump2020\u001b[38;5;241m.\u001b[39mappend([tweet\u001b[38;5;241m.\u001b[39mdate, tweet\u001b[38;5;241m.\u001b[39mcontent])\n",
      "File \u001b[1;32m~\\anaconda3\\lib\\site-packages\\tqdm\\std.py:1195\u001b[0m, in \u001b[0;36mtqdm.__iter__\u001b[1;34m(self)\u001b[0m\n\u001b[0;32m   1192\u001b[0m time \u001b[38;5;241m=\u001b[39m \u001b[38;5;28mself\u001b[39m\u001b[38;5;241m.\u001b[39m_time\n\u001b[0;32m   1194\u001b[0m \u001b[38;5;28;01mtry\u001b[39;00m:\n\u001b[1;32m-> 1195\u001b[0m     \u001b[38;5;28;01mfor\u001b[39;00m obj \u001b[38;5;129;01min\u001b[39;00m iterable:\n\u001b[0;32m   1196\u001b[0m         \u001b[38;5;28;01myield\u001b[39;00m obj\n\u001b[0;32m   1197\u001b[0m         \u001b[38;5;66;03m# Update and possibly print the progressbar.\u001b[39;00m\n\u001b[0;32m   1198\u001b[0m         \u001b[38;5;66;03m# Note: does not call self.update(1) for speed optimisation.\u001b[39;00m\n",
      "File \u001b[1;32m~\\anaconda3\\lib\\site-packages\\snscrape\\modules\\twitter.py:680\u001b[0m, in \u001b[0;36mTwitterSearchScraper.get_items\u001b[1;34m(self)\u001b[0m\n\u001b[0;32m    677\u001b[0m \t\u001b[38;5;28;01mdel\u001b[39;00m params[\u001b[38;5;124m'\u001b[39m\u001b[38;5;124mtweet_search_mode\u001b[39m\u001b[38;5;124m'\u001b[39m]\n\u001b[0;32m    678\u001b[0m \t\u001b[38;5;28;01mdel\u001b[39;00m paginationParams[\u001b[38;5;124m'\u001b[39m\u001b[38;5;124mtweet_search_mode\u001b[39m\u001b[38;5;124m'\u001b[39m]\n\u001b[1;32m--> 680\u001b[0m \u001b[38;5;28;01mfor\u001b[39;00m obj \u001b[38;5;129;01min\u001b[39;00m \u001b[38;5;28mself\u001b[39m\u001b[38;5;241m.\u001b[39m_iter_api_data(\u001b[38;5;124m'\u001b[39m\u001b[38;5;124mhttps://api.twitter.com/2/search/adaptive.json\u001b[39m\u001b[38;5;124m'\u001b[39m, params, paginationParams, cursor \u001b[38;5;241m=\u001b[39m \u001b[38;5;28mself\u001b[39m\u001b[38;5;241m.\u001b[39m_cursor):\n\u001b[0;32m    681\u001b[0m \t\u001b[38;5;28;01myield from\u001b[39;00m \u001b[38;5;28mself\u001b[39m\u001b[38;5;241m.\u001b[39m_instructions_to_tweets(obj)\n",
      "File \u001b[1;32m~\\anaconda3\\lib\\site-packages\\snscrape\\modules\\twitter.py:369\u001b[0m, in \u001b[0;36m_TwitterAPIScraper._iter_api_data\u001b[1;34m(self, endpoint, params, paginationParams, cursor, direction)\u001b[0m\n\u001b[0;32m    367\u001b[0m \u001b[38;5;28;01mwhile\u001b[39;00m \u001b[38;5;28;01mTrue\u001b[39;00m:\n\u001b[0;32m    368\u001b[0m \t_logger\u001b[38;5;241m.\u001b[39minfo(\u001b[38;5;124mf\u001b[39m\u001b[38;5;124m'\u001b[39m\u001b[38;5;124mRetrieving scroll page \u001b[39m\u001b[38;5;132;01m{\u001b[39;00mcursor\u001b[38;5;132;01m}\u001b[39;00m\u001b[38;5;124m'\u001b[39m)\n\u001b[1;32m--> 369\u001b[0m \tobj \u001b[38;5;241m=\u001b[39m \u001b[38;5;28;43mself\u001b[39;49m\u001b[38;5;241;43m.\u001b[39;49m\u001b[43m_get_api_data\u001b[49m\u001b[43m(\u001b[49m\u001b[43mendpoint\u001b[49m\u001b[43m,\u001b[49m\u001b[43m \u001b[49m\u001b[43mreqParams\u001b[49m\u001b[43m)\u001b[49m\n\u001b[0;32m    370\u001b[0m \t\u001b[38;5;28;01myield\u001b[39;00m obj\n\u001b[0;32m    372\u001b[0m \t\u001b[38;5;66;03m# No data format test, just a hard and loud crash if anything's wrong :-)\u001b[39;00m\n",
      "File \u001b[1;32m~\\anaconda3\\lib\\site-packages\\snscrape\\modules\\twitter.py:339\u001b[0m, in \u001b[0;36m_TwitterAPIScraper._get_api_data\u001b[1;34m(self, endpoint, params)\u001b[0m\n\u001b[0;32m    337\u001b[0m \u001b[38;5;28;01mdef\u001b[39;00m \u001b[38;5;21m_get_api_data\u001b[39m(\u001b[38;5;28mself\u001b[39m, endpoint, params):\n\u001b[0;32m    338\u001b[0m \t\u001b[38;5;28mself\u001b[39m\u001b[38;5;241m.\u001b[39m_ensure_guest_token()\n\u001b[1;32m--> 339\u001b[0m \tr \u001b[38;5;241m=\u001b[39m \u001b[38;5;28;43mself\u001b[39;49m\u001b[38;5;241;43m.\u001b[39;49m\u001b[43m_get\u001b[49m\u001b[43m(\u001b[49m\u001b[43mendpoint\u001b[49m\u001b[43m,\u001b[49m\u001b[43m \u001b[49m\u001b[43mparams\u001b[49m\u001b[43m \u001b[49m\u001b[38;5;241;43m=\u001b[39;49m\u001b[43m \u001b[49m\u001b[43mparams\u001b[49m\u001b[43m,\u001b[49m\u001b[43m \u001b[49m\u001b[43mheaders\u001b[49m\u001b[43m \u001b[49m\u001b[38;5;241;43m=\u001b[39;49m\u001b[43m \u001b[49m\u001b[38;5;28;43mself\u001b[39;49m\u001b[38;5;241;43m.\u001b[39;49m\u001b[43m_apiHeaders\u001b[49m\u001b[43m,\u001b[49m\u001b[43m \u001b[49m\u001b[43mresponseOkCallback\u001b[49m\u001b[43m \u001b[49m\u001b[38;5;241;43m=\u001b[39;49m\u001b[43m \u001b[49m\u001b[38;5;28;43mself\u001b[39;49m\u001b[38;5;241;43m.\u001b[39;49m\u001b[43m_check_api_response\u001b[49m\u001b[43m)\u001b[49m\n\u001b[0;32m    340\u001b[0m \t\u001b[38;5;28;01mtry\u001b[39;00m:\n\u001b[0;32m    341\u001b[0m \t\tobj \u001b[38;5;241m=\u001b[39m r\u001b[38;5;241m.\u001b[39mjson()\n",
      "File \u001b[1;32m~\\anaconda3\\lib\\site-packages\\snscrape\\base.py:216\u001b[0m, in \u001b[0;36mScraper._get\u001b[1;34m(self, *args, **kwargs)\u001b[0m\n\u001b[0;32m    215\u001b[0m \u001b[38;5;28;01mdef\u001b[39;00m \u001b[38;5;21m_get\u001b[39m(\u001b[38;5;28mself\u001b[39m, \u001b[38;5;241m*\u001b[39margs, \u001b[38;5;241m*\u001b[39m\u001b[38;5;241m*\u001b[39mkwargs):\n\u001b[1;32m--> 216\u001b[0m \t\u001b[38;5;28;01mreturn\u001b[39;00m \u001b[38;5;28mself\u001b[39m\u001b[38;5;241m.\u001b[39m_request(\u001b[38;5;124m'\u001b[39m\u001b[38;5;124mGET\u001b[39m\u001b[38;5;124m'\u001b[39m, \u001b[38;5;241m*\u001b[39margs, \u001b[38;5;241m*\u001b[39m\u001b[38;5;241m*\u001b[39mkwargs)\n",
      "File \u001b[1;32m~\\anaconda3\\lib\\site-packages\\snscrape\\base.py:173\u001b[0m, in \u001b[0;36mScraper._request\u001b[1;34m(self, method, url, params, data, headers, timeout, responseOkCallback, allowRedirects)\u001b[0m\n\u001b[0;32m    171\u001b[0m \tlogger\u001b[38;5;241m.\u001b[39mdebug(\u001b[38;5;124mf\u001b[39m\u001b[38;5;124m'\u001b[39m\u001b[38;5;124m... with data: \u001b[39m\u001b[38;5;132;01m{\u001b[39;00mdata\u001b[38;5;132;01m!r}\u001b[39;00m\u001b[38;5;124m'\u001b[39m)\n\u001b[0;32m    172\u001b[0m \u001b[38;5;28;01mtry\u001b[39;00m:\n\u001b[1;32m--> 173\u001b[0m \tr \u001b[38;5;241m=\u001b[39m \u001b[38;5;28;43mself\u001b[39;49m\u001b[38;5;241;43m.\u001b[39;49m\u001b[43m_session\u001b[49m\u001b[38;5;241;43m.\u001b[39;49m\u001b[43msend\u001b[49m\u001b[43m(\u001b[49m\u001b[43mreq\u001b[49m\u001b[43m,\u001b[49m\u001b[43m \u001b[49m\u001b[43mallow_redirects\u001b[49m\u001b[43m \u001b[49m\u001b[38;5;241;43m=\u001b[39;49m\u001b[43m \u001b[49m\u001b[43mallowRedirects\u001b[49m\u001b[43m,\u001b[49m\u001b[43m \u001b[49m\u001b[43mtimeout\u001b[49m\u001b[43m \u001b[49m\u001b[38;5;241;43m=\u001b[39;49m\u001b[43m \u001b[49m\u001b[43mtimeout\u001b[49m\u001b[43m)\u001b[49m\n\u001b[0;32m    174\u001b[0m \u001b[38;5;28;01mexcept\u001b[39;00m requests\u001b[38;5;241m.\u001b[39mexceptions\u001b[38;5;241m.\u001b[39mRequestException \u001b[38;5;28;01mas\u001b[39;00m exc:\n\u001b[0;32m    175\u001b[0m \t\u001b[38;5;28;01mif\u001b[39;00m attempt \u001b[38;5;241m<\u001b[39m \u001b[38;5;28mself\u001b[39m\u001b[38;5;241m.\u001b[39m_retries:\n",
      "File \u001b[1;32m~\\anaconda3\\lib\\site-packages\\requests\\sessions.py:645\u001b[0m, in \u001b[0;36mSession.send\u001b[1;34m(self, request, **kwargs)\u001b[0m\n\u001b[0;32m    642\u001b[0m start \u001b[38;5;241m=\u001b[39m preferred_clock()\n\u001b[0;32m    644\u001b[0m \u001b[38;5;66;03m# Send the request\u001b[39;00m\n\u001b[1;32m--> 645\u001b[0m r \u001b[38;5;241m=\u001b[39m adapter\u001b[38;5;241m.\u001b[39msend(request, \u001b[38;5;241m*\u001b[39m\u001b[38;5;241m*\u001b[39mkwargs)\n\u001b[0;32m    647\u001b[0m \u001b[38;5;66;03m# Total elapsed time of the request (approximately)\u001b[39;00m\n\u001b[0;32m    648\u001b[0m elapsed \u001b[38;5;241m=\u001b[39m preferred_clock() \u001b[38;5;241m-\u001b[39m start\n",
      "File \u001b[1;32m~\\anaconda3\\lib\\site-packages\\requests\\adapters.py:440\u001b[0m, in \u001b[0;36mHTTPAdapter.send\u001b[1;34m(self, request, stream, timeout, verify, cert, proxies)\u001b[0m\n\u001b[0;32m    438\u001b[0m \u001b[38;5;28;01mtry\u001b[39;00m:\n\u001b[0;32m    439\u001b[0m     \u001b[38;5;28;01mif\u001b[39;00m \u001b[38;5;129;01mnot\u001b[39;00m chunked:\n\u001b[1;32m--> 440\u001b[0m         resp \u001b[38;5;241m=\u001b[39m \u001b[43mconn\u001b[49m\u001b[38;5;241;43m.\u001b[39;49m\u001b[43murlopen\u001b[49m\u001b[43m(\u001b[49m\n\u001b[0;32m    441\u001b[0m \u001b[43m            \u001b[49m\u001b[43mmethod\u001b[49m\u001b[38;5;241;43m=\u001b[39;49m\u001b[43mrequest\u001b[49m\u001b[38;5;241;43m.\u001b[39;49m\u001b[43mmethod\u001b[49m\u001b[43m,\u001b[49m\n\u001b[0;32m    442\u001b[0m \u001b[43m            \u001b[49m\u001b[43murl\u001b[49m\u001b[38;5;241;43m=\u001b[39;49m\u001b[43murl\u001b[49m\u001b[43m,\u001b[49m\n\u001b[0;32m    443\u001b[0m \u001b[43m            \u001b[49m\u001b[43mbody\u001b[49m\u001b[38;5;241;43m=\u001b[39;49m\u001b[43mrequest\u001b[49m\u001b[38;5;241;43m.\u001b[39;49m\u001b[43mbody\u001b[49m\u001b[43m,\u001b[49m\n\u001b[0;32m    444\u001b[0m \u001b[43m            \u001b[49m\u001b[43mheaders\u001b[49m\u001b[38;5;241;43m=\u001b[39;49m\u001b[43mrequest\u001b[49m\u001b[38;5;241;43m.\u001b[39;49m\u001b[43mheaders\u001b[49m\u001b[43m,\u001b[49m\n\u001b[0;32m    445\u001b[0m \u001b[43m            \u001b[49m\u001b[43mredirect\u001b[49m\u001b[38;5;241;43m=\u001b[39;49m\u001b[38;5;28;43;01mFalse\u001b[39;49;00m\u001b[43m,\u001b[49m\n\u001b[0;32m    446\u001b[0m \u001b[43m            \u001b[49m\u001b[43massert_same_host\u001b[49m\u001b[38;5;241;43m=\u001b[39;49m\u001b[38;5;28;43;01mFalse\u001b[39;49;00m\u001b[43m,\u001b[49m\n\u001b[0;32m    447\u001b[0m \u001b[43m            \u001b[49m\u001b[43mpreload_content\u001b[49m\u001b[38;5;241;43m=\u001b[39;49m\u001b[38;5;28;43;01mFalse\u001b[39;49;00m\u001b[43m,\u001b[49m\n\u001b[0;32m    448\u001b[0m \u001b[43m            \u001b[49m\u001b[43mdecode_content\u001b[49m\u001b[38;5;241;43m=\u001b[39;49m\u001b[38;5;28;43;01mFalse\u001b[39;49;00m\u001b[43m,\u001b[49m\n\u001b[0;32m    449\u001b[0m \u001b[43m            \u001b[49m\u001b[43mretries\u001b[49m\u001b[38;5;241;43m=\u001b[39;49m\u001b[38;5;28;43mself\u001b[39;49m\u001b[38;5;241;43m.\u001b[39;49m\u001b[43mmax_retries\u001b[49m\u001b[43m,\u001b[49m\n\u001b[0;32m    450\u001b[0m \u001b[43m            \u001b[49m\u001b[43mtimeout\u001b[49m\u001b[38;5;241;43m=\u001b[39;49m\u001b[43mtimeout\u001b[49m\n\u001b[0;32m    451\u001b[0m \u001b[43m        \u001b[49m\u001b[43m)\u001b[49m\n\u001b[0;32m    453\u001b[0m     \u001b[38;5;66;03m# Send the request.\u001b[39;00m\n\u001b[0;32m    454\u001b[0m     \u001b[38;5;28;01melse\u001b[39;00m:\n\u001b[0;32m    455\u001b[0m         \u001b[38;5;28;01mif\u001b[39;00m \u001b[38;5;28mhasattr\u001b[39m(conn, \u001b[38;5;124m'\u001b[39m\u001b[38;5;124mproxy_pool\u001b[39m\u001b[38;5;124m'\u001b[39m):\n",
      "File \u001b[1;32m~\\anaconda3\\lib\\site-packages\\urllib3\\connectionpool.py:703\u001b[0m, in \u001b[0;36mHTTPConnectionPool.urlopen\u001b[1;34m(self, method, url, body, headers, retries, redirect, assert_same_host, timeout, pool_timeout, release_conn, chunked, body_pos, **response_kw)\u001b[0m\n\u001b[0;32m    700\u001b[0m     \u001b[38;5;28mself\u001b[39m\u001b[38;5;241m.\u001b[39m_prepare_proxy(conn)\n\u001b[0;32m    702\u001b[0m \u001b[38;5;66;03m# Make the request on the httplib connection object.\u001b[39;00m\n\u001b[1;32m--> 703\u001b[0m httplib_response \u001b[38;5;241m=\u001b[39m \u001b[38;5;28;43mself\u001b[39;49m\u001b[38;5;241;43m.\u001b[39;49m\u001b[43m_make_request\u001b[49m\u001b[43m(\u001b[49m\n\u001b[0;32m    704\u001b[0m \u001b[43m    \u001b[49m\u001b[43mconn\u001b[49m\u001b[43m,\u001b[49m\n\u001b[0;32m    705\u001b[0m \u001b[43m    \u001b[49m\u001b[43mmethod\u001b[49m\u001b[43m,\u001b[49m\n\u001b[0;32m    706\u001b[0m \u001b[43m    \u001b[49m\u001b[43murl\u001b[49m\u001b[43m,\u001b[49m\n\u001b[0;32m    707\u001b[0m \u001b[43m    \u001b[49m\u001b[43mtimeout\u001b[49m\u001b[38;5;241;43m=\u001b[39;49m\u001b[43mtimeout_obj\u001b[49m\u001b[43m,\u001b[49m\n\u001b[0;32m    708\u001b[0m \u001b[43m    \u001b[49m\u001b[43mbody\u001b[49m\u001b[38;5;241;43m=\u001b[39;49m\u001b[43mbody\u001b[49m\u001b[43m,\u001b[49m\n\u001b[0;32m    709\u001b[0m \u001b[43m    \u001b[49m\u001b[43mheaders\u001b[49m\u001b[38;5;241;43m=\u001b[39;49m\u001b[43mheaders\u001b[49m\u001b[43m,\u001b[49m\n\u001b[0;32m    710\u001b[0m \u001b[43m    \u001b[49m\u001b[43mchunked\u001b[49m\u001b[38;5;241;43m=\u001b[39;49m\u001b[43mchunked\u001b[49m\u001b[43m,\u001b[49m\n\u001b[0;32m    711\u001b[0m \u001b[43m\u001b[49m\u001b[43m)\u001b[49m\n\u001b[0;32m    713\u001b[0m \u001b[38;5;66;03m# If we're going to release the connection in ``finally:``, then\u001b[39;00m\n\u001b[0;32m    714\u001b[0m \u001b[38;5;66;03m# the response doesn't need to know about the connection. Otherwise\u001b[39;00m\n\u001b[0;32m    715\u001b[0m \u001b[38;5;66;03m# it will also try to release it and we'll have a double-release\u001b[39;00m\n\u001b[0;32m    716\u001b[0m \u001b[38;5;66;03m# mess.\u001b[39;00m\n\u001b[0;32m    717\u001b[0m response_conn \u001b[38;5;241m=\u001b[39m conn \u001b[38;5;28;01mif\u001b[39;00m \u001b[38;5;129;01mnot\u001b[39;00m release_conn \u001b[38;5;28;01melse\u001b[39;00m \u001b[38;5;28;01mNone\u001b[39;00m\n",
      "File \u001b[1;32m~\\anaconda3\\lib\\site-packages\\urllib3\\connectionpool.py:449\u001b[0m, in \u001b[0;36mHTTPConnectionPool._make_request\u001b[1;34m(self, conn, method, url, timeout, chunked, **httplib_request_kw)\u001b[0m\n\u001b[0;32m    444\u001b[0m             httplib_response \u001b[38;5;241m=\u001b[39m conn\u001b[38;5;241m.\u001b[39mgetresponse()\n\u001b[0;32m    445\u001b[0m         \u001b[38;5;28;01mexcept\u001b[39;00m \u001b[38;5;167;01mBaseException\u001b[39;00m \u001b[38;5;28;01mas\u001b[39;00m e:\n\u001b[0;32m    446\u001b[0m             \u001b[38;5;66;03m# Remove the TypeError from the exception chain in\u001b[39;00m\n\u001b[0;32m    447\u001b[0m             \u001b[38;5;66;03m# Python 3 (including for exceptions like SystemExit).\u001b[39;00m\n\u001b[0;32m    448\u001b[0m             \u001b[38;5;66;03m# Otherwise it looks like a bug in the code.\u001b[39;00m\n\u001b[1;32m--> 449\u001b[0m             \u001b[43msix\u001b[49m\u001b[38;5;241;43m.\u001b[39;49m\u001b[43mraise_from\u001b[49m\u001b[43m(\u001b[49m\u001b[43me\u001b[49m\u001b[43m,\u001b[49m\u001b[43m \u001b[49m\u001b[38;5;28;43;01mNone\u001b[39;49;00m\u001b[43m)\u001b[49m\n\u001b[0;32m    450\u001b[0m \u001b[38;5;28;01mexcept\u001b[39;00m (SocketTimeout, BaseSSLError, SocketError) \u001b[38;5;28;01mas\u001b[39;00m e:\n\u001b[0;32m    451\u001b[0m     \u001b[38;5;28mself\u001b[39m\u001b[38;5;241m.\u001b[39m_raise_timeout(err\u001b[38;5;241m=\u001b[39me, url\u001b[38;5;241m=\u001b[39murl, timeout_value\u001b[38;5;241m=\u001b[39mread_timeout)\n",
      "File \u001b[1;32m<string>:3\u001b[0m, in \u001b[0;36mraise_from\u001b[1;34m(value, from_value)\u001b[0m\n",
      "File \u001b[1;32m~\\anaconda3\\lib\\site-packages\\urllib3\\connectionpool.py:444\u001b[0m, in \u001b[0;36mHTTPConnectionPool._make_request\u001b[1;34m(self, conn, method, url, timeout, chunked, **httplib_request_kw)\u001b[0m\n\u001b[0;32m    441\u001b[0m \u001b[38;5;28;01mexcept\u001b[39;00m \u001b[38;5;167;01mTypeError\u001b[39;00m:\n\u001b[0;32m    442\u001b[0m     \u001b[38;5;66;03m# Python 3\u001b[39;00m\n\u001b[0;32m    443\u001b[0m     \u001b[38;5;28;01mtry\u001b[39;00m:\n\u001b[1;32m--> 444\u001b[0m         httplib_response \u001b[38;5;241m=\u001b[39m \u001b[43mconn\u001b[49m\u001b[38;5;241;43m.\u001b[39;49m\u001b[43mgetresponse\u001b[49m\u001b[43m(\u001b[49m\u001b[43m)\u001b[49m\n\u001b[0;32m    445\u001b[0m     \u001b[38;5;28;01mexcept\u001b[39;00m \u001b[38;5;167;01mBaseException\u001b[39;00m \u001b[38;5;28;01mas\u001b[39;00m e:\n\u001b[0;32m    446\u001b[0m         \u001b[38;5;66;03m# Remove the TypeError from the exception chain in\u001b[39;00m\n\u001b[0;32m    447\u001b[0m         \u001b[38;5;66;03m# Python 3 (including for exceptions like SystemExit).\u001b[39;00m\n\u001b[0;32m    448\u001b[0m         \u001b[38;5;66;03m# Otherwise it looks like a bug in the code.\u001b[39;00m\n\u001b[0;32m    449\u001b[0m         six\u001b[38;5;241m.\u001b[39mraise_from(e, \u001b[38;5;28;01mNone\u001b[39;00m)\n",
      "File \u001b[1;32m~\\anaconda3\\lib\\http\\client.py:1377\u001b[0m, in \u001b[0;36mHTTPConnection.getresponse\u001b[1;34m(self)\u001b[0m\n\u001b[0;32m   1375\u001b[0m \u001b[38;5;28;01mtry\u001b[39;00m:\n\u001b[0;32m   1376\u001b[0m     \u001b[38;5;28;01mtry\u001b[39;00m:\n\u001b[1;32m-> 1377\u001b[0m         \u001b[43mresponse\u001b[49m\u001b[38;5;241;43m.\u001b[39;49m\u001b[43mbegin\u001b[49m\u001b[43m(\u001b[49m\u001b[43m)\u001b[49m\n\u001b[0;32m   1378\u001b[0m     \u001b[38;5;28;01mexcept\u001b[39;00m \u001b[38;5;167;01mConnectionError\u001b[39;00m:\n\u001b[0;32m   1379\u001b[0m         \u001b[38;5;28mself\u001b[39m\u001b[38;5;241m.\u001b[39mclose()\n",
      "File \u001b[1;32m~\\anaconda3\\lib\\http\\client.py:320\u001b[0m, in \u001b[0;36mHTTPResponse.begin\u001b[1;34m(self)\u001b[0m\n\u001b[0;32m    318\u001b[0m \u001b[38;5;66;03m# read until we get a non-100 response\u001b[39;00m\n\u001b[0;32m    319\u001b[0m \u001b[38;5;28;01mwhile\u001b[39;00m \u001b[38;5;28;01mTrue\u001b[39;00m:\n\u001b[1;32m--> 320\u001b[0m     version, status, reason \u001b[38;5;241m=\u001b[39m \u001b[38;5;28;43mself\u001b[39;49m\u001b[38;5;241;43m.\u001b[39;49m\u001b[43m_read_status\u001b[49m\u001b[43m(\u001b[49m\u001b[43m)\u001b[49m\n\u001b[0;32m    321\u001b[0m     \u001b[38;5;28;01mif\u001b[39;00m status \u001b[38;5;241m!=\u001b[39m CONTINUE:\n\u001b[0;32m    322\u001b[0m         \u001b[38;5;28;01mbreak\u001b[39;00m\n",
      "File \u001b[1;32m~\\anaconda3\\lib\\http\\client.py:281\u001b[0m, in \u001b[0;36mHTTPResponse._read_status\u001b[1;34m(self)\u001b[0m\n\u001b[0;32m    280\u001b[0m \u001b[38;5;28;01mdef\u001b[39;00m \u001b[38;5;21m_read_status\u001b[39m(\u001b[38;5;28mself\u001b[39m):\n\u001b[1;32m--> 281\u001b[0m     line \u001b[38;5;241m=\u001b[39m \u001b[38;5;28mstr\u001b[39m(\u001b[38;5;28;43mself\u001b[39;49m\u001b[38;5;241;43m.\u001b[39;49m\u001b[43mfp\u001b[49m\u001b[38;5;241;43m.\u001b[39;49m\u001b[43mreadline\u001b[49m\u001b[43m(\u001b[49m\u001b[43m_MAXLINE\u001b[49m\u001b[43m \u001b[49m\u001b[38;5;241;43m+\u001b[39;49m\u001b[43m \u001b[49m\u001b[38;5;241;43m1\u001b[39;49m\u001b[43m)\u001b[49m, \u001b[38;5;124m\"\u001b[39m\u001b[38;5;124miso-8859-1\u001b[39m\u001b[38;5;124m\"\u001b[39m)\n\u001b[0;32m    282\u001b[0m     \u001b[38;5;28;01mif\u001b[39;00m \u001b[38;5;28mlen\u001b[39m(line) \u001b[38;5;241m>\u001b[39m _MAXLINE:\n\u001b[0;32m    283\u001b[0m         \u001b[38;5;28;01mraise\u001b[39;00m LineTooLong(\u001b[38;5;124m\"\u001b[39m\u001b[38;5;124mstatus line\u001b[39m\u001b[38;5;124m\"\u001b[39m)\n",
      "File \u001b[1;32m~\\anaconda3\\lib\\socket.py:704\u001b[0m, in \u001b[0;36mSocketIO.readinto\u001b[1;34m(self, b)\u001b[0m\n\u001b[0;32m    702\u001b[0m \u001b[38;5;28;01mwhile\u001b[39;00m \u001b[38;5;28;01mTrue\u001b[39;00m:\n\u001b[0;32m    703\u001b[0m     \u001b[38;5;28;01mtry\u001b[39;00m:\n\u001b[1;32m--> 704\u001b[0m         \u001b[38;5;28;01mreturn\u001b[39;00m \u001b[38;5;28;43mself\u001b[39;49m\u001b[38;5;241;43m.\u001b[39;49m\u001b[43m_sock\u001b[49m\u001b[38;5;241;43m.\u001b[39;49m\u001b[43mrecv_into\u001b[49m\u001b[43m(\u001b[49m\u001b[43mb\u001b[49m\u001b[43m)\u001b[49m\n\u001b[0;32m    705\u001b[0m     \u001b[38;5;28;01mexcept\u001b[39;00m timeout:\n\u001b[0;32m    706\u001b[0m         \u001b[38;5;28mself\u001b[39m\u001b[38;5;241m.\u001b[39m_timeout_occurred \u001b[38;5;241m=\u001b[39m \u001b[38;5;28;01mTrue\u001b[39;00m\n",
      "File \u001b[1;32m~\\anaconda3\\lib\\ssl.py:1241\u001b[0m, in \u001b[0;36mSSLSocket.recv_into\u001b[1;34m(self, buffer, nbytes, flags)\u001b[0m\n\u001b[0;32m   1237\u001b[0m     \u001b[38;5;28;01mif\u001b[39;00m flags \u001b[38;5;241m!=\u001b[39m \u001b[38;5;241m0\u001b[39m:\n\u001b[0;32m   1238\u001b[0m         \u001b[38;5;28;01mraise\u001b[39;00m \u001b[38;5;167;01mValueError\u001b[39;00m(\n\u001b[0;32m   1239\u001b[0m           \u001b[38;5;124m\"\u001b[39m\u001b[38;5;124mnon-zero flags not allowed in calls to recv_into() on \u001b[39m\u001b[38;5;132;01m%s\u001b[39;00m\u001b[38;5;124m\"\u001b[39m \u001b[38;5;241m%\u001b[39m\n\u001b[0;32m   1240\u001b[0m           \u001b[38;5;28mself\u001b[39m\u001b[38;5;241m.\u001b[39m\u001b[38;5;18m__class__\u001b[39m)\n\u001b[1;32m-> 1241\u001b[0m     \u001b[38;5;28;01mreturn\u001b[39;00m \u001b[38;5;28;43mself\u001b[39;49m\u001b[38;5;241;43m.\u001b[39;49m\u001b[43mread\u001b[49m\u001b[43m(\u001b[49m\u001b[43mnbytes\u001b[49m\u001b[43m,\u001b[49m\u001b[43m \u001b[49m\u001b[43mbuffer\u001b[49m\u001b[43m)\u001b[49m\n\u001b[0;32m   1242\u001b[0m \u001b[38;5;28;01melse\u001b[39;00m:\n\u001b[0;32m   1243\u001b[0m     \u001b[38;5;28;01mreturn\u001b[39;00m \u001b[38;5;28msuper\u001b[39m()\u001b[38;5;241m.\u001b[39mrecv_into(buffer, nbytes, flags)\n",
      "File \u001b[1;32m~\\anaconda3\\lib\\ssl.py:1099\u001b[0m, in \u001b[0;36mSSLSocket.read\u001b[1;34m(self, len, buffer)\u001b[0m\n\u001b[0;32m   1097\u001b[0m \u001b[38;5;28;01mtry\u001b[39;00m:\n\u001b[0;32m   1098\u001b[0m     \u001b[38;5;28;01mif\u001b[39;00m buffer \u001b[38;5;129;01mis\u001b[39;00m \u001b[38;5;129;01mnot\u001b[39;00m \u001b[38;5;28;01mNone\u001b[39;00m:\n\u001b[1;32m-> 1099\u001b[0m         \u001b[38;5;28;01mreturn\u001b[39;00m \u001b[38;5;28;43mself\u001b[39;49m\u001b[38;5;241;43m.\u001b[39;49m\u001b[43m_sslobj\u001b[49m\u001b[38;5;241;43m.\u001b[39;49m\u001b[43mread\u001b[49m\u001b[43m(\u001b[49m\u001b[38;5;28;43mlen\u001b[39;49m\u001b[43m,\u001b[49m\u001b[43m \u001b[49m\u001b[43mbuffer\u001b[49m\u001b[43m)\u001b[49m\n\u001b[0;32m   1100\u001b[0m     \u001b[38;5;28;01melse\u001b[39;00m:\n\u001b[0;32m   1101\u001b[0m         \u001b[38;5;28;01mreturn\u001b[39;00m \u001b[38;5;28mself\u001b[39m\u001b[38;5;241m.\u001b[39m_sslobj\u001b[38;5;241m.\u001b[39mread(\u001b[38;5;28mlen\u001b[39m)\n",
      "\u001b[1;31mKeyboardInterrupt\u001b[0m: "
     ]
    }
   ],
   "source": [
    "#Getting the tweets:\n",
    "logfile = 'tweet_scrape_log_Trump2020_2.csv'\n",
    "for tweet in tqdm.tqdm(sntwitter.TwitterSearchScraper(query).get_items()):\n",
    "    try:\n",
    "        tweets_Trump2020.append([tweet.date, tweet.content])\n",
    "    except Exception as e:\n",
    "        print('Something went wrong')\n",
    "        print(e)\n",
    "        print(f'Last tweet: {tweet.date} {tweet.content}')\n",
    "        with open('tweets_backup_Trump2020.csv', 'w', encoding='utf8') as f:\n",
    "            write = csv.writer(f)\n",
    "            write.writerow(['datetime', 'text'])\n",
    "            write.writerows(tweets)\n",
    "        continue\n",
    "    log(vars(tweet), logfile)"
   ]
  },
  {
   "cell_type": "code",
   "execution_count": 17,
   "metadata": {},
   "outputs": [],
   "source": [
    "#If everything went to plan, save the list as a csv\n",
    "with open('tweets_Trump2020.csv', 'w', encoding='utf8') as f:\n",
    "    write = csv.writer(f)\n",
    "    write.writerow(['datetime', 'text'])\n",
    "    write.writerows(tweets_Trump2020)"
   ]
  },
  {
   "cell_type": "code",
   "execution_count": 18,
   "metadata": {},
   "outputs": [],
   "source": [
    "#Get dataframe from csv\n",
    "df_tweets_Trump2020 = pd.read_csv('tweets_Trump2020.csv')\n",
    "df_tweets_Trump2020['datetime'] = pd.to_datetime(df_tweets_Trump2020['datetime'])"
   ]
  },
  {
   "cell_type": "markdown",
   "metadata": {},
   "source": [
    "### Get #MAGA"
   ]
  },
  {
   "cell_type": "code",
   "execution_count": 6,
   "metadata": {},
   "outputs": [],
   "source": [
    "#21/05/2020 -> 05/02/2021\n",
    "#21 Maj - 5 Feb\n",
    "query = \"(#MAGA) lang:en until:2021-02-06 since:2020-05-21\"\n",
    "tweets_MAGA = []"
   ]
  },
  {
   "cell_type": "code",
   "execution_count": null,
   "metadata": {},
   "outputs": [],
   "source": [
    "#Getting the tweets:\n",
    "logfile = 'tweet_scrape_log_MAGA.csv'\n",
    "for tweet in tqdm.tqdm(sntwitter.TwitterSearchScraper(query).get_items()):\n",
    "    try:\n",
    "        tweets_MAGA.append([tweet.date, tweet.content])\n",
    "    except Exception as e:\n",
    "        print('Something went wrong')\n",
    "        print(e)\n",
    "        print(f'Last tweet: {tweet.date} {tweet.content}')\n",
    "        with open('tweets_backup_MAGA.csv', 'w', encoding='utf8') as f:\n",
    "            write = csv.writer(f)\n",
    "            write.writerow(['datetime', 'text'])\n",
    "            write.writerows(tweets)\n",
    "        continue\n",
    "    log(vars(tweet), logfile)"
   ]
  },
  {
   "cell_type": "code",
   "execution_count": null,
   "metadata": {},
   "outputs": [],
   "source": [
    "#If everything went to plan, save the list as a csv\n",
    "with open('tweets_MAGA.csv', 'w', encoding='utf8') as f:\n",
    "    write = csv.writer(f)\n",
    "    write.writerow(['datetime', 'text'])\n",
    "    write.writerows(tweets_MAGA)"
   ]
  },
  {
   "cell_type": "code",
   "execution_count": null,
   "metadata": {},
   "outputs": [],
   "source": [
    "#Get dataframe from csv\n",
    "df_tweets_MAGA = pd.read_csv('tweets_MAGA.csv')\n",
    "df_tweets_MAGA['datetime'] = pd.to_datetime(df_tweets_MAGA['datetime'])"
   ]
  },
  {
   "cell_type": "markdown",
   "metadata": {},
   "source": [
    "### Work with Twitter data"
   ]
  },
  {
   "cell_type": "code",
   "execution_count": 32,
   "metadata": {},
   "outputs": [],
   "source": [
    "#Creating our Dataframe from list (only if everyhting went wrong)\n",
    "#df_tweets = pd.DataFrame(tweets, columns=['datetime', 'text'])"
   ]
  },
  {
   "cell_type": "code",
   "execution_count": 7,
   "metadata": {},
   "outputs": [
    {
     "data": {
      "text/html": [
       "<div>\n",
       "<style scoped>\n",
       "    .dataframe tbody tr th:only-of-type {\n",
       "        vertical-align: middle;\n",
       "    }\n",
       "\n",
       "    .dataframe tbody tr th {\n",
       "        vertical-align: top;\n",
       "    }\n",
       "\n",
       "    .dataframe thead th {\n",
       "        text-align: right;\n",
       "    }\n",
       "</style>\n",
       "<table border=\"1\" class=\"dataframe\">\n",
       "  <thead>\n",
       "    <tr style=\"text-align: right;\">\n",
       "      <th></th>\n",
       "      <th>datetime</th>\n",
       "      <th>text</th>\n",
       "    </tr>\n",
       "  </thead>\n",
       "  <tbody>\n",
       "    <tr>\n",
       "      <th>0</th>\n",
       "      <td>2021-02-05 23:41:02+00:00</td>\n",
       "      <td>PREDICTION: Every @FoxNews primetime host toni...</td>\n",
       "    </tr>\n",
       "    <tr>\n",
       "      <th>1</th>\n",
       "      <td>2021-02-05 23:35:30+00:00</td>\n",
       "      <td>I don't understand - since we all KNOW the ele...</td>\n",
       "    </tr>\n",
       "    <tr>\n",
       "      <th>2</th>\n",
       "      <td>2021-02-05 23:29:42+00:00</td>\n",
       "      <td>@SethMacFarlane Trump2020 #StopTheSteal  #Abso...</td>\n",
       "    </tr>\n",
       "    <tr>\n",
       "      <th>3</th>\n",
       "      <td>2021-02-05 23:06:12+00:00</td>\n",
       "      <td>@DonaldJTrumpJr thank you for keeping the grea...</td>\n",
       "    </tr>\n",
       "    <tr>\n",
       "      <th>4</th>\n",
       "      <td>2021-02-05 22:57:47+00:00</td>\n",
       "      <td>@BWWings I just found out that someone stole a...</td>\n",
       "    </tr>\n",
       "    <tr>\n",
       "      <th>...</th>\n",
       "      <td>...</td>\n",
       "      <td>...</td>\n",
       "    </tr>\n",
       "    <tr>\n",
       "      <th>172450</th>\n",
       "      <td>2020-05-21 19:12:57+00:00</td>\n",
       "      <td>#VoterFraud\\r\\n#VoterIDNow\\r\\n#StopTheSteal\\r\\...</td>\n",
       "    </tr>\n",
       "    <tr>\n",
       "      <th>172451</th>\n",
       "      <td>2020-05-21 18:17:24+00:00</td>\n",
       "      <td>#VoterFraud\\r\\n#BallotHarvesting\\r\\n#StopTheSt...</td>\n",
       "    </tr>\n",
       "    <tr>\n",
       "      <th>172452</th>\n",
       "      <td>2020-05-21 13:55:16+00:00</td>\n",
       "      <td>@SecPompeo @SecPompeo @POTUS @VP @GOPChairwoma...</td>\n",
       "    </tr>\n",
       "    <tr>\n",
       "      <th>172453</th>\n",
       "      <td>2020-05-21 13:49:39+00:00</td>\n",
       "      <td>@thehill Strange ... 'cause Trump mailed in hi...</td>\n",
       "    </tr>\n",
       "    <tr>\n",
       "      <th>172454</th>\n",
       "      <td>2020-05-21 02:05:57+00:00</td>\n",
       "      <td>Damn DeSantis coming in with the big guns and ...</td>\n",
       "    </tr>\n",
       "  </tbody>\n",
       "</table>\n",
       "<p>172455 rows × 2 columns</p>\n",
       "</div>"
      ],
      "text/plain": [
       "                        datetime  \\\n",
       "0      2021-02-05 23:41:02+00:00   \n",
       "1      2021-02-05 23:35:30+00:00   \n",
       "2      2021-02-05 23:29:42+00:00   \n",
       "3      2021-02-05 23:06:12+00:00   \n",
       "4      2021-02-05 22:57:47+00:00   \n",
       "...                          ...   \n",
       "172450 2020-05-21 19:12:57+00:00   \n",
       "172451 2020-05-21 18:17:24+00:00   \n",
       "172452 2020-05-21 13:55:16+00:00   \n",
       "172453 2020-05-21 13:49:39+00:00   \n",
       "172454 2020-05-21 02:05:57+00:00   \n",
       "\n",
       "                                                     text  \n",
       "0       PREDICTION: Every @FoxNews primetime host toni...  \n",
       "1       I don't understand - since we all KNOW the ele...  \n",
       "2       @SethMacFarlane Trump2020 #StopTheSteal  #Abso...  \n",
       "3       @DonaldJTrumpJr thank you for keeping the grea...  \n",
       "4       @BWWings I just found out that someone stole a...  \n",
       "...                                                   ...  \n",
       "172450  #VoterFraud\\r\\n#VoterIDNow\\r\\n#StopTheSteal\\r\\...  \n",
       "172451  #VoterFraud\\r\\n#BallotHarvesting\\r\\n#StopTheSt...  \n",
       "172452  @SecPompeo @SecPompeo @POTUS @VP @GOPChairwoma...  \n",
       "172453  @thehill Strange ... 'cause Trump mailed in hi...  \n",
       "172454  Damn DeSantis coming in with the big guns and ...  \n",
       "\n",
       "[172455 rows x 2 columns]"
      ]
     },
     "execution_count": 7,
     "metadata": {},
     "output_type": "execute_result"
    }
   ],
   "source": [
    "df_tweets"
   ]
  },
  {
   "cell_type": "code",
   "execution_count": 9,
   "metadata": {},
   "outputs": [],
   "source": [
    "#Working with the tweet text data\n",
    "dirty_text = df_tweets['text'].copy()"
   ]
  },
  {
   "cell_type": "code",
   "execution_count": 10,
   "metadata": {},
   "outputs": [],
   "source": [
    "def clean(array_of_tweets):\n",
    "    \"\"\"This function will take a list of tweets and clean them in the following manner:\n",
    "    Make lowercase, Replace mentions with @user, and remove any links\"\"\"\n",
    "    for i in range(len(array_of_tweets)):\n",
    "        #make lower() and strip\n",
    "        new_text = array_of_tweets[i].lower().strip()\n",
    "        #replace @user \n",
    "        new_text = re.sub(r'\\@\\w+', '', new_text)\n",
    "        #remove links\n",
    "        new_text = re.sub(r'https?://\\w+\\.\\w+/?\\w+', '', new_text)\n",
    "        #remove (video)\n",
    "        new_text = re.sub(r'\\(video\\)', '', new_text)\n",
    "        #remove \\r and \\n\n",
    "        new_text = re.sub(r'\\r', '', new_text)\n",
    "        new_text = re.sub(r'\\n', '', new_text)\n",
    "        #remove hashtags\n",
    "        new_text = re.sub(r'#\\w+', '', new_text)\n",
    "        #remove punctuation \n",
    "        new_text = re.sub(r'\\.', '', new_text)\n",
    "        array_of_tweets[i] = new_text\n",
    "    return array_of_tweets"
   ]
  },
  {
   "cell_type": "code",
   "execution_count": 11,
   "metadata": {},
   "outputs": [],
   "source": [
    "#Get clean_text\n",
    "clean_text = clean(dirty_text)"
   ]
  },
  {
   "cell_type": "code",
   "execution_count": 12,
   "metadata": {},
   "outputs": [
    {
     "name": "stdout",
     "output_type": "stream",
     "text": [
      "PREDICTION: Every @FoxNews primetime host tonight will bemoan \"cancel culture\" and \"the elites\" - while NO attention will be paid to @LouDobbs role in the #StopTheSteal hoax. https://t.co/TdJXMXxZW2\n",
      "\n",
      "prediction: every  primetime host tonight will bemoan \"cancel culture\" and \"the elites\" - while no attention will be paid to  role in the  hoax \n",
      "\n",
      "I don't understand - since we all KNOW the election was stolen, why don't they just defend him in court?\n",
      "\n",
      "🤣🤣🤣🤣\n",
      "\n",
      "#StopTheSteal https://t.co/fFYrQBRLF7\n",
      "\n",
      "i don't understand - since we all know the election was stolen, why don't they just defend him in court?🤣🤣🤣🤣 \n",
      "\n",
      "@SethMacFarlane Trump2020 #StopTheSteal  #AbsoluteEvidence\n",
      "\n",
      " trump2020   \n",
      "\n",
      "@DonaldJTrumpJr thank you for keeping the greatest president we have ever had active on social media #MAGA! \n",
      "\n",
      "#stopTheSteal\n",
      "\n",
      " thank you for keeping the greatest president we have ever had active on social media ! \n",
      "\n",
      "@BWWings I just found out that someone stole a bunch of my reward points... how do I get them back? #stopthesteal\n",
      "\n",
      " i just found out that someone stole a bunch of my reward points how do i get them back? \n",
      "\n"
     ]
    }
   ],
   "source": [
    "#testing the text\n",
    "for i in range(5):\n",
    "    print(df_tweets['text'][i])\n",
    "    print()\n",
    "    print(clean_text[i])\n",
    "    print()"
   ]
  },
  {
   "cell_type": "code",
   "execution_count": 13,
   "metadata": {},
   "outputs": [],
   "source": [
    "#Making a column with the cleaned text\n",
    "df_tweets['cleaned text'] = clean_text"
   ]
  },
  {
   "cell_type": "code",
   "execution_count": 14,
   "metadata": {},
   "outputs": [
    {
     "data": {
      "text/html": [
       "<div>\n",
       "<style scoped>\n",
       "    .dataframe tbody tr th:only-of-type {\n",
       "        vertical-align: middle;\n",
       "    }\n",
       "\n",
       "    .dataframe tbody tr th {\n",
       "        vertical-align: top;\n",
       "    }\n",
       "\n",
       "    .dataframe thead th {\n",
       "        text-align: right;\n",
       "    }\n",
       "</style>\n",
       "<table border=\"1\" class=\"dataframe\">\n",
       "  <thead>\n",
       "    <tr style=\"text-align: right;\">\n",
       "      <th></th>\n",
       "      <th>datetime</th>\n",
       "      <th>text</th>\n",
       "      <th>cleaned text</th>\n",
       "    </tr>\n",
       "  </thead>\n",
       "  <tbody>\n",
       "    <tr>\n",
       "      <th>0</th>\n",
       "      <td>2021-02-05 23:41:02+00:00</td>\n",
       "      <td>PREDICTION: Every @FoxNews primetime host toni...</td>\n",
       "      <td>prediction: every  primetime host tonight will...</td>\n",
       "    </tr>\n",
       "    <tr>\n",
       "      <th>1</th>\n",
       "      <td>2021-02-05 23:35:30+00:00</td>\n",
       "      <td>I don't understand - since we all KNOW the ele...</td>\n",
       "      <td>i don't understand - since we all know the ele...</td>\n",
       "    </tr>\n",
       "    <tr>\n",
       "      <th>2</th>\n",
       "      <td>2021-02-05 23:29:42+00:00</td>\n",
       "      <td>@SethMacFarlane Trump2020 #StopTheSteal  #Abso...</td>\n",
       "      <td>trump2020</td>\n",
       "    </tr>\n",
       "    <tr>\n",
       "      <th>3</th>\n",
       "      <td>2021-02-05 23:06:12+00:00</td>\n",
       "      <td>@DonaldJTrumpJr thank you for keeping the grea...</td>\n",
       "      <td>thank you for keeping the greatest president ...</td>\n",
       "    </tr>\n",
       "    <tr>\n",
       "      <th>4</th>\n",
       "      <td>2021-02-05 22:57:47+00:00</td>\n",
       "      <td>@BWWings I just found out that someone stole a...</td>\n",
       "      <td>i just found out that someone stole a bunch o...</td>\n",
       "    </tr>\n",
       "    <tr>\n",
       "      <th>...</th>\n",
       "      <td>...</td>\n",
       "      <td>...</td>\n",
       "      <td>...</td>\n",
       "    </tr>\n",
       "    <tr>\n",
       "      <th>172450</th>\n",
       "      <td>2020-05-21 19:12:57+00:00</td>\n",
       "      <td>#VoterFraud\\r\\n#VoterIDNow\\r\\n#StopTheSteal\\r\\...</td>\n",
       "      <td>!democrats stink 💣 backfires! 👇 democrats paid...</td>\n",
       "    </tr>\n",
       "    <tr>\n",
       "      <th>172451</th>\n",
       "      <td>2020-05-21 18:17:24+00:00</td>\n",
       "      <td>#VoterFraud\\r\\n#BallotHarvesting\\r\\n#StopTheSt...</td>\n",
       "      <td>announces charges against philadelphia electi...</td>\n",
       "    </tr>\n",
       "    <tr>\n",
       "      <th>172452</th>\n",
       "      <td>2020-05-21 13:55:16+00:00</td>\n",
       "      <td>@SecPompeo @SecPompeo @POTUS @VP @GOPChairwoma...</td>\n",
       "      <td>333+millionpopulation, 100,000+died =...</td>\n",
       "    </tr>\n",
       "    <tr>\n",
       "      <th>172453</th>\n",
       "      <td>2020-05-21 13:49:39+00:00</td>\n",
       "      <td>@thehill Strange ... 'cause Trump mailed in hi...</td>\n",
       "      <td>strange  'cause trump mailed in his last vote...</td>\n",
       "    </tr>\n",
       "    <tr>\n",
       "      <th>172454</th>\n",
       "      <td>2020-05-21 02:05:57+00:00</td>\n",
       "      <td>Damn DeSantis coming in with the big guns and ...</td>\n",
       "      <td>damn desantis coming in with the big guns and ...</td>\n",
       "    </tr>\n",
       "  </tbody>\n",
       "</table>\n",
       "<p>172455 rows × 3 columns</p>\n",
       "</div>"
      ],
      "text/plain": [
       "                        datetime  \\\n",
       "0      2021-02-05 23:41:02+00:00   \n",
       "1      2021-02-05 23:35:30+00:00   \n",
       "2      2021-02-05 23:29:42+00:00   \n",
       "3      2021-02-05 23:06:12+00:00   \n",
       "4      2021-02-05 22:57:47+00:00   \n",
       "...                          ...   \n",
       "172450 2020-05-21 19:12:57+00:00   \n",
       "172451 2020-05-21 18:17:24+00:00   \n",
       "172452 2020-05-21 13:55:16+00:00   \n",
       "172453 2020-05-21 13:49:39+00:00   \n",
       "172454 2020-05-21 02:05:57+00:00   \n",
       "\n",
       "                                                     text  \\\n",
       "0       PREDICTION: Every @FoxNews primetime host toni...   \n",
       "1       I don't understand - since we all KNOW the ele...   \n",
       "2       @SethMacFarlane Trump2020 #StopTheSteal  #Abso...   \n",
       "3       @DonaldJTrumpJr thank you for keeping the grea...   \n",
       "4       @BWWings I just found out that someone stole a...   \n",
       "...                                                   ...   \n",
       "172450  #VoterFraud\\r\\n#VoterIDNow\\r\\n#StopTheSteal\\r\\...   \n",
       "172451  #VoterFraud\\r\\n#BallotHarvesting\\r\\n#StopTheSt...   \n",
       "172452  @SecPompeo @SecPompeo @POTUS @VP @GOPChairwoma...   \n",
       "172453  @thehill Strange ... 'cause Trump mailed in hi...   \n",
       "172454  Damn DeSantis coming in with the big guns and ...   \n",
       "\n",
       "                                             cleaned text  \n",
       "0       prediction: every  primetime host tonight will...  \n",
       "1       i don't understand - since we all know the ele...  \n",
       "2                                            trump2020     \n",
       "3        thank you for keeping the greatest president ...  \n",
       "4        i just found out that someone stole a bunch o...  \n",
       "...                                                   ...  \n",
       "172450  !democrats stink 💣 backfires! 👇 democrats paid...  \n",
       "172451   announces charges against philadelphia electi...  \n",
       "172452           333+millionpopulation, 100,000+died =...  \n",
       "172453   strange  'cause trump mailed in his last vote...  \n",
       "172454  damn desantis coming in with the big guns and ...  \n",
       "\n",
       "[172455 rows x 3 columns]"
      ]
     },
     "execution_count": 14,
     "metadata": {},
     "output_type": "execute_result"
    }
   ],
   "source": [
    "df_tweets"
   ]
  },
  {
   "cell_type": "code",
   "execution_count": 15,
   "metadata": {},
   "outputs": [
    {
     "name": "stderr",
     "output_type": "stream",
     "text": [
      "100%|████████████████████████████████████████████████████████████████████████| 172455/172455 [00:30<00:00, 5617.69it/s]\n"
     ]
    }
   ],
   "source": [
    "#Using Vader to find perform sentiment analysis\n",
    "analyzer = SentimentIntensityAnalyzer()\n",
    "sentiment = []\n",
    "for i in tqdm.tqdm(df_tweets['cleaned text'].values):\n",
    "    score = analyzer.polarity_scores(i)['compound']\n",
    "    sentiment.append(score)"
   ]
  },
  {
   "cell_type": "code",
   "execution_count": 16,
   "metadata": {},
   "outputs": [],
   "source": [
    "df_tweets['sentiment_score'] = sentiment"
   ]
  },
  {
   "cell_type": "code",
   "execution_count": 17,
   "metadata": {},
   "outputs": [
    {
     "name": "stdout",
     "output_type": "stream",
     "text": [
      "prediction: every  primetime host tonight will bemoan \"cancel culture\" and \"the elites\" - while no attention will be paid to  role in the  hoax  -0.6486\n",
      "\n",
      "i don't understand - since we all know the election was stolen, why don't they just defend him in court?🤣🤣🤣🤣  -0.4939\n",
      "\n",
      " trump2020    0.0\n",
      "\n",
      " thank you for keeping the greatest president we have ever had active on social media !  0.8655\n",
      "\n",
      " i just found out that someone stole a bunch of my reward points how do i get them back?  0.5719\n",
      "\n",
      "hmmm,  at work  america needs to do its research when the next electron rolls around     0.0\n",
      "\n",
      " talking about it!!  0.0\n",
      "\n",
      " i mean, i would rather read about someone’s struggles overcoming adversity and the life experiences from that than i promoted  as a career move poor    -0.6808\n",
      "\n",
      " irony is that  was penalised for questioning authority, but within 30 second of sutton death finishing his authority was questioned minus points for  and  the only alternative  -0.7684\n",
      "\n",
      "the internet is telling me that mike lindell's absolute proof is being deleted from various social media outlets but, it looks like the documentary can be viewed on lindell's website     0.5023\n",
      "\n"
     ]
    }
   ],
   "source": [
    "for i in range(10):\n",
    "    print(df_tweets['cleaned text'][i], df_tweets['sentiment_score'][i])\n",
    "    print()"
   ]
  },
  {
   "cell_type": "code",
   "execution_count": 19,
   "metadata": {},
   "outputs": [],
   "source": [
    "#calculating the average of all sentiment\n",
    "total = 0\n",
    "for i in df_tweets['sentiment_score']:\n",
    "    total += i\n",
    "avg = total / len(df_tweets['sentiment_score'])"
   ]
  },
  {
   "cell_type": "code",
   "execution_count": 20,
   "metadata": {},
   "outputs": [
    {
     "data": {
      "text/plain": [
       "-0.01055495752515255"
      ]
     },
     "execution_count": 20,
     "metadata": {},
     "output_type": "execute_result"
    }
   ],
   "source": [
    "avg"
   ]
  },
  {
   "cell_type": "code",
   "execution_count": 33,
   "metadata": {},
   "outputs": [],
   "source": [
    "#Creating date column with the date \n",
    "df_tweets['date'] = df_tweets['datetime'].dt.date"
   ]
  },
  {
   "cell_type": "code",
   "execution_count": 66,
   "metadata": {},
   "outputs": [
    {
     "data": {
      "text/html": [
       "<div>\n",
       "<style scoped>\n",
       "    .dataframe tbody tr th:only-of-type {\n",
       "        vertical-align: middle;\n",
       "    }\n",
       "\n",
       "    .dataframe tbody tr th {\n",
       "        vertical-align: top;\n",
       "    }\n",
       "\n",
       "    .dataframe thead th {\n",
       "        text-align: right;\n",
       "    }\n",
       "</style>\n",
       "<table border=\"1\" class=\"dataframe\">\n",
       "  <thead>\n",
       "    <tr style=\"text-align: right;\">\n",
       "      <th></th>\n",
       "      <th>datetime</th>\n",
       "      <th>text</th>\n",
       "      <th>cleaned text</th>\n",
       "      <th>sentiment_score</th>\n",
       "      <th>date</th>\n",
       "    </tr>\n",
       "  </thead>\n",
       "  <tbody>\n",
       "    <tr>\n",
       "      <th>0</th>\n",
       "      <td>2021-02-05 23:41:02+00:00</td>\n",
       "      <td>PREDICTION: Every @FoxNews primetime host toni...</td>\n",
       "      <td>prediction: every  primetime host tonight will...</td>\n",
       "      <td>-0.6486</td>\n",
       "      <td>2021-02-05</td>\n",
       "    </tr>\n",
       "    <tr>\n",
       "      <th>1</th>\n",
       "      <td>2021-02-05 23:35:30+00:00</td>\n",
       "      <td>I don't understand - since we all KNOW the ele...</td>\n",
       "      <td>i don't understand - since we all know the ele...</td>\n",
       "      <td>-0.4939</td>\n",
       "      <td>2021-02-05</td>\n",
       "    </tr>\n",
       "    <tr>\n",
       "      <th>2</th>\n",
       "      <td>2021-02-05 23:29:42+00:00</td>\n",
       "      <td>@SethMacFarlane Trump2020 #StopTheSteal  #Abso...</td>\n",
       "      <td>trump2020</td>\n",
       "      <td>0.0000</td>\n",
       "      <td>2021-02-05</td>\n",
       "    </tr>\n",
       "  </tbody>\n",
       "</table>\n",
       "</div>"
      ],
      "text/plain": [
       "                   datetime  \\\n",
       "0 2021-02-05 23:41:02+00:00   \n",
       "1 2021-02-05 23:35:30+00:00   \n",
       "2 2021-02-05 23:29:42+00:00   \n",
       "\n",
       "                                                text  \\\n",
       "0  PREDICTION: Every @FoxNews primetime host toni...   \n",
       "1  I don't understand - since we all KNOW the ele...   \n",
       "2  @SethMacFarlane Trump2020 #StopTheSteal  #Abso...   \n",
       "\n",
       "                                        cleaned text  sentiment_score  \\\n",
       "0  prediction: every  primetime host tonight will...          -0.6486   \n",
       "1  i don't understand - since we all know the ele...          -0.4939   \n",
       "2                                       trump2020              0.0000   \n",
       "\n",
       "         date  \n",
       "0  2021-02-05  \n",
       "1  2021-02-05  \n",
       "2  2021-02-05  "
      ]
     },
     "execution_count": 66,
     "metadata": {},
     "output_type": "execute_result"
    }
   ],
   "source": [
    "df_tweets.head(3)"
   ]
  },
  {
   "cell_type": "code",
   "execution_count": 74,
   "metadata": {},
   "outputs": [],
   "source": [
    "#Save a dataframe with just the cleaned tweets and the sentiment score to use for bag of words\n",
    "df_tweets_for_bag = df_tweets.copy()\n",
    "df_tweets_for_bag.drop(['text', 'datetime'], axis=1, inplace=True)\n",
    "df_tweets_for_bag.to_csv('tweets_for_bag.csv', encoding='utf8')"
   ]
  },
  {
   "cell_type": "code",
   "execution_count": 35,
   "metadata": {},
   "outputs": [],
   "source": [
    "#Splitting the dataframe by date, getting the sum and count of the sentiment to calculate average\n",
    "tweets_by_date = df_tweets.groupby('date')['sentiment_score'].agg(['sum', 'count'])"
   ]
  },
  {
   "cell_type": "code",
   "execution_count": 36,
   "metadata": {},
   "outputs": [],
   "source": [
    "#Creating an average column\n",
    "tweets_by_date['avg'] = tweets_by_date['sum'] / tweets_by_date['count']"
   ]
  },
  {
   "cell_type": "code",
   "execution_count": 37,
   "metadata": {},
   "outputs": [
    {
     "data": {
      "text/html": [
       "<div>\n",
       "<style scoped>\n",
       "    .dataframe tbody tr th:only-of-type {\n",
       "        vertical-align: middle;\n",
       "    }\n",
       "\n",
       "    .dataframe tbody tr th {\n",
       "        vertical-align: top;\n",
       "    }\n",
       "\n",
       "    .dataframe thead th {\n",
       "        text-align: right;\n",
       "    }\n",
       "</style>\n",
       "<table border=\"1\" class=\"dataframe\">\n",
       "  <thead>\n",
       "    <tr style=\"text-align: right;\">\n",
       "      <th></th>\n",
       "      <th>sum</th>\n",
       "      <th>count</th>\n",
       "      <th>avg</th>\n",
       "    </tr>\n",
       "    <tr>\n",
       "      <th>date</th>\n",
       "      <th></th>\n",
       "      <th></th>\n",
       "      <th></th>\n",
       "    </tr>\n",
       "  </thead>\n",
       "  <tbody>\n",
       "    <tr>\n",
       "      <th>2020-05-21</th>\n",
       "      <td>-0.7103</td>\n",
       "      <td>7</td>\n",
       "      <td>-0.101471</td>\n",
       "    </tr>\n",
       "    <tr>\n",
       "      <th>2020-05-22</th>\n",
       "      <td>-2.6501</td>\n",
       "      <td>5</td>\n",
       "      <td>-0.530020</td>\n",
       "    </tr>\n",
       "    <tr>\n",
       "      <th>2020-05-23</th>\n",
       "      <td>-0.0852</td>\n",
       "      <td>3</td>\n",
       "      <td>-0.028400</td>\n",
       "    </tr>\n",
       "    <tr>\n",
       "      <th>2020-05-24</th>\n",
       "      <td>-0.2346</td>\n",
       "      <td>4</td>\n",
       "      <td>-0.058650</td>\n",
       "    </tr>\n",
       "    <tr>\n",
       "      <th>2020-05-25</th>\n",
       "      <td>0.5229</td>\n",
       "      <td>1</td>\n",
       "      <td>0.522900</td>\n",
       "    </tr>\n",
       "    <tr>\n",
       "      <th>...</th>\n",
       "      <td>...</td>\n",
       "      <td>...</td>\n",
       "      <td>...</td>\n",
       "    </tr>\n",
       "    <tr>\n",
       "      <th>2021-02-01</th>\n",
       "      <td>-10.9737</td>\n",
       "      <td>143</td>\n",
       "      <td>-0.076739</td>\n",
       "    </tr>\n",
       "    <tr>\n",
       "      <th>2021-02-02</th>\n",
       "      <td>-15.1909</td>\n",
       "      <td>148</td>\n",
       "      <td>-0.102641</td>\n",
       "    </tr>\n",
       "    <tr>\n",
       "      <th>2021-02-03</th>\n",
       "      <td>-7.4392</td>\n",
       "      <td>215</td>\n",
       "      <td>-0.034601</td>\n",
       "    </tr>\n",
       "    <tr>\n",
       "      <th>2021-02-04</th>\n",
       "      <td>-5.0482</td>\n",
       "      <td>148</td>\n",
       "      <td>-0.034109</td>\n",
       "    </tr>\n",
       "    <tr>\n",
       "      <th>2021-02-05</th>\n",
       "      <td>-12.9821</td>\n",
       "      <td>128</td>\n",
       "      <td>-0.101423</td>\n",
       "    </tr>\n",
       "  </tbody>\n",
       "</table>\n",
       "<p>244 rows × 3 columns</p>\n",
       "</div>"
      ],
      "text/plain": [
       "                sum  count       avg\n",
       "date                                \n",
       "2020-05-21  -0.7103      7 -0.101471\n",
       "2020-05-22  -2.6501      5 -0.530020\n",
       "2020-05-23  -0.0852      3 -0.028400\n",
       "2020-05-24  -0.2346      4 -0.058650\n",
       "2020-05-25   0.5229      1  0.522900\n",
       "...             ...    ...       ...\n",
       "2021-02-01 -10.9737    143 -0.076739\n",
       "2021-02-02 -15.1909    148 -0.102641\n",
       "2021-02-03  -7.4392    215 -0.034601\n",
       "2021-02-04  -5.0482    148 -0.034109\n",
       "2021-02-05 -12.9821    128 -0.101423\n",
       "\n",
       "[244 rows x 3 columns]"
      ]
     },
     "execution_count": 37,
     "metadata": {},
     "output_type": "execute_result"
    }
   ],
   "source": [
    "tweets_by_date"
   ]
  },
  {
   "cell_type": "code",
   "execution_count": 38,
   "metadata": {},
   "outputs": [],
   "source": [
    "#Drop sum and rename count\n",
    "tweets_by_date.drop('sum', axis=1, inplace=True)\n",
    "tweets_by_date.columns = ['tweet_count', 'total_avg']"
   ]
  },
  {
   "cell_type": "code",
   "execution_count": 39,
   "metadata": {},
   "outputs": [
    {
     "name": "stdout",
     "output_type": "stream",
     "text": [
      "                sum  count  positive_avg\n",
      "date                                    \n",
      "2020-05-21   0.3818      1      0.381800\n",
      "2020-05-23   0.7294      2      0.364700\n",
      "2020-05-24   0.6239      1      0.623900\n",
      "2020-05-25   0.5229      1      0.522900\n",
      "2020-05-26   0.8985      2      0.449250\n",
      "...             ...    ...           ...\n",
      "2021-02-01  24.0089     54      0.444609\n",
      "2021-02-02  19.6082     44      0.445641\n",
      "2021-02-03  30.1608     56      0.538586\n",
      "2021-02-04  12.8148     32      0.400462\n",
      "2021-02-05  19.5953     37      0.529603\n",
      "\n",
      "[209 rows x 3 columns]\n",
      "                sum  count  negative_avg\n",
      "date                                    \n",
      "2020-05-21  -1.0921      3     -0.364033\n",
      "2020-05-22  -2.6501      4     -0.662525\n",
      "2020-05-23  -0.8146      1     -0.814600\n",
      "2020-05-24  -0.8585      1     -0.858500\n",
      "2020-05-26  -1.8810      4     -0.470250\n",
      "...             ...    ...           ...\n",
      "2021-02-01 -34.9826     58     -0.603148\n",
      "2021-02-02 -34.7991     68     -0.511751\n",
      "2021-02-03 -37.6000     66     -0.569697\n",
      "2021-02-04 -17.8630     35     -0.510371\n",
      "2021-02-05 -32.5774     61     -0.534056\n",
      "\n",
      "[221 rows x 3 columns]\n"
     ]
    }
   ],
   "source": [
    "#Getting all the positive values\n",
    "positive_sentiment = df_tweets[df_tweets['sentiment_score'] > 0].groupby('date')['sentiment_score'].agg(['sum', 'count'])\n",
    "#Getting the positive average\n",
    "positive_sentiment['positive_avg'] = positive_sentiment['sum'] / positive_sentiment['count']\n",
    "print(positive_sentiment)\n",
    "\n",
    "#Getting all the negative values\n",
    "negative_sentiment = df_tweets[df_tweets['sentiment_score'] < 0].groupby('date')['sentiment_score'].agg(['sum', 'count']) \n",
    "#Getting negative average\n",
    "negative_sentiment['negative_avg'] = negative_sentiment['sum'] / negative_sentiment['count']\n",
    "print(negative_sentiment)"
   ]
  },
  {
   "cell_type": "code",
   "execution_count": 40,
   "metadata": {},
   "outputs": [],
   "source": [
    "#Dropping sum\n",
    "positive_sentiment.drop('sum', axis=1, inplace=True)\n",
    "negative_sentiment.drop('sum', axis=1, inplace=True)\n",
    "# Renaming the columns\n",
    "positive_sentiment.columns = ['positive_count', 'positive_avg']\n",
    "negative_sentiment.columns = ['negative_count', 'negative_avg']"
   ]
  },
  {
   "cell_type": "code",
   "execution_count": 41,
   "metadata": {},
   "outputs": [],
   "source": [
    "#Adding the positive and the negative to combined_tweets\n",
    "all_sentiment = positive_sentiment.join(negative_sentiment, how='outer')\n",
    "df_combined_tweets = tweets_by_date.join(all_sentiment, how='outer')\n",
    "#Add day column for plots\n",
    "df_combined_tweets['day'] = df_combined_tweets.index"
   ]
  },
  {
   "cell_type": "code",
   "execution_count": 42,
   "metadata": {},
   "outputs": [
    {
     "data": {
      "text/html": [
       "<div>\n",
       "<style scoped>\n",
       "    .dataframe tbody tr th:only-of-type {\n",
       "        vertical-align: middle;\n",
       "    }\n",
       "\n",
       "    .dataframe tbody tr th {\n",
       "        vertical-align: top;\n",
       "    }\n",
       "\n",
       "    .dataframe thead th {\n",
       "        text-align: right;\n",
       "    }\n",
       "</style>\n",
       "<table border=\"1\" class=\"dataframe\">\n",
       "  <thead>\n",
       "    <tr style=\"text-align: right;\">\n",
       "      <th></th>\n",
       "      <th>tweet_count</th>\n",
       "      <th>total_avg</th>\n",
       "      <th>positive_count</th>\n",
       "      <th>positive_avg</th>\n",
       "      <th>negative_count</th>\n",
       "      <th>negative_avg</th>\n",
       "      <th>day</th>\n",
       "    </tr>\n",
       "    <tr>\n",
       "      <th>date</th>\n",
       "      <th></th>\n",
       "      <th></th>\n",
       "      <th></th>\n",
       "      <th></th>\n",
       "      <th></th>\n",
       "      <th></th>\n",
       "      <th></th>\n",
       "    </tr>\n",
       "  </thead>\n",
       "  <tbody>\n",
       "    <tr>\n",
       "      <th>2020-05-21</th>\n",
       "      <td>7</td>\n",
       "      <td>-0.101471</td>\n",
       "      <td>1.0</td>\n",
       "      <td>0.381800</td>\n",
       "      <td>3.0</td>\n",
       "      <td>-0.364033</td>\n",
       "      <td>2020-05-21</td>\n",
       "    </tr>\n",
       "    <tr>\n",
       "      <th>2020-05-22</th>\n",
       "      <td>5</td>\n",
       "      <td>-0.530020</td>\n",
       "      <td>NaN</td>\n",
       "      <td>NaN</td>\n",
       "      <td>4.0</td>\n",
       "      <td>-0.662525</td>\n",
       "      <td>2020-05-22</td>\n",
       "    </tr>\n",
       "    <tr>\n",
       "      <th>2020-05-23</th>\n",
       "      <td>3</td>\n",
       "      <td>-0.028400</td>\n",
       "      <td>2.0</td>\n",
       "      <td>0.364700</td>\n",
       "      <td>1.0</td>\n",
       "      <td>-0.814600</td>\n",
       "      <td>2020-05-23</td>\n",
       "    </tr>\n",
       "    <tr>\n",
       "      <th>2020-05-24</th>\n",
       "      <td>4</td>\n",
       "      <td>-0.058650</td>\n",
       "      <td>1.0</td>\n",
       "      <td>0.623900</td>\n",
       "      <td>1.0</td>\n",
       "      <td>-0.858500</td>\n",
       "      <td>2020-05-24</td>\n",
       "    </tr>\n",
       "    <tr>\n",
       "      <th>2020-05-25</th>\n",
       "      <td>1</td>\n",
       "      <td>0.522900</td>\n",
       "      <td>1.0</td>\n",
       "      <td>0.522900</td>\n",
       "      <td>NaN</td>\n",
       "      <td>NaN</td>\n",
       "      <td>2020-05-25</td>\n",
       "    </tr>\n",
       "    <tr>\n",
       "      <th>...</th>\n",
       "      <td>...</td>\n",
       "      <td>...</td>\n",
       "      <td>...</td>\n",
       "      <td>...</td>\n",
       "      <td>...</td>\n",
       "      <td>...</td>\n",
       "      <td>...</td>\n",
       "    </tr>\n",
       "    <tr>\n",
       "      <th>2021-02-01</th>\n",
       "      <td>143</td>\n",
       "      <td>-0.076739</td>\n",
       "      <td>54.0</td>\n",
       "      <td>0.444609</td>\n",
       "      <td>58.0</td>\n",
       "      <td>-0.603148</td>\n",
       "      <td>2021-02-01</td>\n",
       "    </tr>\n",
       "    <tr>\n",
       "      <th>2021-02-02</th>\n",
       "      <td>148</td>\n",
       "      <td>-0.102641</td>\n",
       "      <td>44.0</td>\n",
       "      <td>0.445641</td>\n",
       "      <td>68.0</td>\n",
       "      <td>-0.511751</td>\n",
       "      <td>2021-02-02</td>\n",
       "    </tr>\n",
       "    <tr>\n",
       "      <th>2021-02-03</th>\n",
       "      <td>215</td>\n",
       "      <td>-0.034601</td>\n",
       "      <td>56.0</td>\n",
       "      <td>0.538586</td>\n",
       "      <td>66.0</td>\n",
       "      <td>-0.569697</td>\n",
       "      <td>2021-02-03</td>\n",
       "    </tr>\n",
       "    <tr>\n",
       "      <th>2021-02-04</th>\n",
       "      <td>148</td>\n",
       "      <td>-0.034109</td>\n",
       "      <td>32.0</td>\n",
       "      <td>0.400462</td>\n",
       "      <td>35.0</td>\n",
       "      <td>-0.510371</td>\n",
       "      <td>2021-02-04</td>\n",
       "    </tr>\n",
       "    <tr>\n",
       "      <th>2021-02-05</th>\n",
       "      <td>128</td>\n",
       "      <td>-0.101423</td>\n",
       "      <td>37.0</td>\n",
       "      <td>0.529603</td>\n",
       "      <td>61.0</td>\n",
       "      <td>-0.534056</td>\n",
       "      <td>2021-02-05</td>\n",
       "    </tr>\n",
       "  </tbody>\n",
       "</table>\n",
       "<p>244 rows × 7 columns</p>\n",
       "</div>"
      ],
      "text/plain": [
       "            tweet_count  total_avg  positive_count  positive_avg  \\\n",
       "date                                                               \n",
       "2020-05-21            7  -0.101471             1.0      0.381800   \n",
       "2020-05-22            5  -0.530020             NaN           NaN   \n",
       "2020-05-23            3  -0.028400             2.0      0.364700   \n",
       "2020-05-24            4  -0.058650             1.0      0.623900   \n",
       "2020-05-25            1   0.522900             1.0      0.522900   \n",
       "...                 ...        ...             ...           ...   \n",
       "2021-02-01          143  -0.076739            54.0      0.444609   \n",
       "2021-02-02          148  -0.102641            44.0      0.445641   \n",
       "2021-02-03          215  -0.034601            56.0      0.538586   \n",
       "2021-02-04          148  -0.034109            32.0      0.400462   \n",
       "2021-02-05          128  -0.101423            37.0      0.529603   \n",
       "\n",
       "            negative_count  negative_avg         day  \n",
       "date                                                  \n",
       "2020-05-21             3.0     -0.364033  2020-05-21  \n",
       "2020-05-22             4.0     -0.662525  2020-05-22  \n",
       "2020-05-23             1.0     -0.814600  2020-05-23  \n",
       "2020-05-24             1.0     -0.858500  2020-05-24  \n",
       "2020-05-25             NaN           NaN  2020-05-25  \n",
       "...                    ...           ...         ...  \n",
       "2021-02-01            58.0     -0.603148  2021-02-01  \n",
       "2021-02-02            68.0     -0.511751  2021-02-02  \n",
       "2021-02-03            66.0     -0.569697  2021-02-03  \n",
       "2021-02-04            35.0     -0.510371  2021-02-04  \n",
       "2021-02-05            61.0     -0.534056  2021-02-05  \n",
       "\n",
       "[244 rows x 7 columns]"
      ]
     },
     "execution_count": 42,
     "metadata": {},
     "output_type": "execute_result"
    }
   ],
   "source": [
    "df_combined_tweets"
   ]
  },
  {
   "cell_type": "code",
   "execution_count": 54,
   "metadata": {},
   "outputs": [],
   "source": [
    "df_combined_tweets.to_csv('combined_tweets.csv', encoding='utf8')"
   ]
  },
  {
   "cell_type": "code",
   "execution_count": 57,
   "metadata": {},
   "outputs": [
    {
     "data": {
      "text/plain": [
       "<AxesSubplot:xlabel='date', ylabel='total_avg'>"
      ]
     },
     "execution_count": 57,
     "metadata": {},
     "output_type": "execute_result"
    },
    {
     "data": {
      "image/png": "[encoded data removed]",
      "text/plain": [
       "<Figure size 720x720 with 1 Axes>"
      ]
     },
     "metadata": {
      "needs_background": "light"
     },
     "output_type": "display_data"
    }
   ],
   "source": [
    "#Scatterplot over the average\n",
    "f, ax = plt.subplots(figsize=(10,10))\n",
    "sns.scatterplot(x='date', y='total_avg', data=df_combined_tweets, ax=ax)\n",
    "sns.scatterplot(x='date', y='positive_avg', data=df_combined_tweets, ax=ax)\n",
    "sns.scatterplot(x='date', y='negative_avg', data=df_combined_tweets, ax=ax)"
   ]
  },
  {
   "cell_type": "code",
   "execution_count": 62,
   "metadata": {},
   "outputs": [
    {
     "data": {
      "text/plain": [
       "<AxesSubplot:xlabel='date'>"
      ]
     },
     "execution_count": 62,
     "metadata": {},
     "output_type": "execute_result"
    },
    {
     "data": {
      "image/png": "[encoded data removed]",
      "text/plain": [
       "<Figure size 720x720 with 1 Axes>"
      ]
     },
     "metadata": {
      "needs_background": "light"
     },
     "output_type": "display_data"
    }
   ],
   "source": [
    "frequency = df_tweets.groupby('date')['sentiment_score'].count()\n",
    "frequency.plot(figsize=(10,10))"
   ]
  },
  {
   "cell_type": "code",
   "execution_count": 63,
   "metadata": {},
   "outputs": [
    {
     "data": {
      "text/plain": [
       "<AxesSubplot:xlabel='datetime'>"
      ]
     },
     "execution_count": 63,
     "metadata": {},
     "output_type": "execute_result"
    },
    {
     "data": {
      "image/png": "[encoded data removed]",
      "text/plain": [
       "<Figure size 720x720 with 1 Axes>"
      ]
     },
     "metadata": {
      "needs_background": "light"
     },
     "output_type": "display_data"
    }
   ],
   "source": [
    "df_tweets.plot(x='datetime', y='sentiment_score', figsize=(10,10))"
   ]
  },
  {
   "cell_type": "code",
   "execution_count": 274,
   "metadata": {},
   "outputs": [],
   "source": [
    "#Show all in a scatter plot -> motivate where we go\n",
    "#Average sentiment of all tweets over time\n",
    "#Average sentiment of negative tweets over time (as well)\n",
    "#Make curve for positive and negative\n",
    "\n",
    "#Bag of words -> look at what words are the most negative/positive\n",
    "# Word cloud \n",
    "\n",
    "#Polarization\n",
    "\n",
    "#Overvejelser:\n",
    "# Lexicon limitations -> words that have an absolute value"
   ]
  }
 ],
 "metadata": {
  "kernelspec": {
   "display_name": "Python 3 (ipykernel)",
   "language": "python",
   "name": "python3"
  },
  "language_info": {
   "codemirror_mode": {
    "name": "ipython",
    "version": 3
   },
   "file_extension": ".py",
   "mimetype": "text/x-python",
   "name": "python",
   "nbconvert_exporter": "python",
   "pygments_lexer": "ipython3",
   "version": "3.9.12"
  },
  "latex_envs": {
   "bibliofile": "biblio.bib",
   "cite_by": "apalike",
   "current_citInitial": 1,
   "eqLabelWithNumbers": true,
   "eqNumInitial": 0
  },
  "toc": {
   "nav_menu": {
    "height": "328px",
    "width": "252px"
   },
   "navigate_menu": true,
   "number_sections": true,
   "sideBar": true,
   "threshold": 4,
   "toc_cell": false,
   "toc_section_display": "block",
   "toc_window_display": false
  }
 },
 "nbformat": 4,
 "nbformat_minor": 4
}
