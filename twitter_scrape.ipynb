{
 "cells": [
  {
   "cell_type": "code",
   "execution_count": 104,
   "metadata": {},
   "outputs": [
    {
     "name": "stderr",
     "output_type": "stream",
     "text": [
      "[nltk_data] Downloading package vader_lexicon to\n",
      "[nltk_data]     C:\\Users\\matth\\AppData\\Roaming\\nltk_data...\n",
      "[nltk_data]   Package vader_lexicon is already up-to-date!\n"
     ]
    }
   ],
   "source": [
    "#Things to import\n",
    "from selenium import webdriver\n",
    "from selenium.webdriver.common.keys import Keys\n",
    "from selenium.webdriver.common.by import By\n",
    "import time, tqdm, json, re, requests, os, csv\n",
    "from bs4 import BeautifulSoup\n",
    "import pandas as pd\n",
    "import numpy as np\n",
    "import matplotlib.pyplot as plt \n",
    "import snscrape.modules.twitter as sntwitter\n",
    "import nltk\n",
    "from nltk.sentiment.vader import SentimentIntensityAnalyzer\n",
    "nltk.download('vader_lexicon')\n",
    "import seaborn as sns"
   ]
  },
  {
   "cell_type": "code",
   "execution_count": 150,
   "metadata": {},
   "outputs": [],
   "source": [
    "#21/05/2020 -> 05/02/2021\n",
    "#21 Maj - 5 Feb\n",
    "query = \"(#stopthesteal) lang:en until:2021-02-05 since:2020-05-21\"\n",
    "#test_query = \"(#stopthesteal) lang:en until:2021-01-07 since:2021-01-05\"\n",
    "tweets = []"
   ]
  },
  {
   "cell_type": "code",
   "execution_count": 151,
   "metadata": {},
   "outputs": [],
   "source": [
    "def log(tweet, logfile,output_path=os.getcwd()):\n",
    "    \"\"\"Logging function to create a log of the scraping status\"\"\"\n",
    "    #Open or create the csv log file\n",
    "    if os.path.isfile(logfile):\n",
    "        log = open(logfile,'a')\n",
    "    else:\n",
    "        log = open(logfile, 'w')\n",
    "        header = ['timestamp', 'status_code', 'length', 'output_file']\n",
    "        log.write(';'.join(header) + '\\n')\n",
    "    \n",
    "    #Get log information\n",
    "    #If the tweet did not fail, the status code is 200\n",
    "    status_code = 200\n",
    "    timestamp = time.strftime('%Y-%m-%d %H:%M:%S', time.localtime(time.time()))\n",
    "    #Should be 27 values along with the tweet\n",
    "    length = len(tweet)\n",
    "    \n",
    "    #append to log file\n",
    "    with open(logfile, 'a') as log:\n",
    "        log.write(f'{timestamp};{status_code};{length};{output_path}' + \"\\n\")\n",
    "        "
   ]
  },
  {
   "cell_type": "code",
   "execution_count": null,
   "metadata": {},
   "outputs": [
    {
     "name": "stderr",
     "output_type": "stream",
     "text": [
      "4579it [03:00, 25.09it/s]"
     ]
    }
   ],
   "source": [
    "#Getting the tweets:\n",
    "logfile = 'tweet_scrape_log.csv'\n",
    "for tweet in tqdm.tqdm(sntwitter.TwitterSearchScraper(query).get_items()):\n",
    "    try:\n",
    "        tweets.append([tweet.date, tweet.content])\n",
    "    except Exception as e:\n",
    "        print('Something went wrong')\n",
    "        print(e)\n",
    "        print(f'Last tweet: {tweet.date} {tweet.content}')\n",
    "        with open('tweets_backup.csv', 'w', encoding='utf8') as f:\n",
    "            write = csv.writer(f)\n",
    "            write.writerow(['datetime', 'text'])\n",
    "            write.writerows(tweets)\n",
    "        continue\n",
    "    log(vars(tweet), logfile)"
   ]
  },
  {
   "cell_type": "code",
   "execution_count": 122,
   "metadata": {},
   "outputs": [],
   "source": [
    "#If everything went to plan, save the list as a csv\n",
    "with open('tweets.csv', 'w', encoding='utf8') as f:\n",
    "    write = csv.writer(f)\n",
    "    write.writerow(['datetime', 'text'])\n",
    "    write.writerows(tweets)"
   ]
  },
  {
   "cell_type": "code",
   "execution_count": 123,
   "metadata": {},
   "outputs": [],
   "source": [
    "#Get dataframe from csv\n",
    "df_tweets = pd.read_csv('tweets.csv')\n",
    "df_tweets['datetime'] = pd.to_datetime(df_tweets['datetime'])"
   ]
  },
  {
   "cell_type": "code",
   "execution_count": 32,
   "metadata": {},
   "outputs": [],
   "source": [
    "#Creating our Dataframe from list (only if everyhting went wrong)\n",
    "#df_tweets = pd.DataFrame(tweets, columns=['datetime', 'text'])"
   ]
  },
  {
   "cell_type": "code",
   "execution_count": 124,
   "metadata": {},
   "outputs": [
    {
     "data": {
      "text/html": [
       "<div>\n",
       "<style scoped>\n",
       "    .dataframe tbody tr th:only-of-type {\n",
       "        vertical-align: middle;\n",
       "    }\n",
       "\n",
       "    .dataframe tbody tr th {\n",
       "        vertical-align: top;\n",
       "    }\n",
       "\n",
       "    .dataframe thead th {\n",
       "        text-align: right;\n",
       "    }\n",
       "</style>\n",
       "<table border=\"1\" class=\"dataframe\">\n",
       "  <thead>\n",
       "    <tr style=\"text-align: right;\">\n",
       "      <th></th>\n",
       "      <th>datetime</th>\n",
       "      <th>text</th>\n",
       "    </tr>\n",
       "  </thead>\n",
       "  <tbody>\n",
       "    <tr>\n",
       "      <th>0</th>\n",
       "      <td>2021-02-04 23:59:27+00:00</td>\n",
       "      <td>@nprpolitics A dangerous precedent has now bee...</td>\n",
       "    </tr>\n",
       "    <tr>\n",
       "      <th>1</th>\n",
       "      <td>2021-02-04 23:49:06+00:00</td>\n",
       "      <td>@BrendanKeefe Republican party has shrunk dram...</td>\n",
       "    </tr>\n",
       "    <tr>\n",
       "      <th>2</th>\n",
       "      <td>2021-02-04 23:35:19+00:00</td>\n",
       "      <td>ARIZONA: Gosar Slams Establishment Republicans...</td>\n",
       "    </tr>\n",
       "    <tr>\n",
       "      <th>3</th>\n",
       "      <td>2021-02-04 23:11:26+00:00</td>\n",
       "      <td>.@GOP always love to play victims w/o taking r...</td>\n",
       "    </tr>\n",
       "    <tr>\n",
       "      <th>4</th>\n",
       "      <td>2021-02-04 23:10:16+00:00</td>\n",
       "      <td>Trump's law: is the Earth more spherical than ...</td>\n",
       "    </tr>\n",
       "    <tr>\n",
       "      <th>...</th>\n",
       "      <td>...</td>\n",
       "      <td>...</td>\n",
       "    </tr>\n",
       "    <tr>\n",
       "      <th>770</th>\n",
       "      <td>2021-01-30 19:36:08+00:00</td>\n",
       "      <td>@laurenboebert tweeting other people’s jokes a...</td>\n",
       "    </tr>\n",
       "    <tr>\n",
       "      <th>771</th>\n",
       "      <td>2021-01-30 19:27:39+00:00</td>\n",
       "      <td>@boltsbucsbabe @BenRaviolio @orlandosentinel I...</td>\n",
       "    </tr>\n",
       "    <tr>\n",
       "      <th>772</th>\n",
       "      <td>2021-01-30 19:13:08+00:00</td>\n",
       "      <td>President Trump won by a landslide!!!! #stopth...</td>\n",
       "    </tr>\n",
       "    <tr>\n",
       "      <th>773</th>\n",
       "      <td>2021-01-30 18:45:44+00:00</td>\n",
       "      <td>@laurenboebert Anyone who said #stopthesteal s...</td>\n",
       "    </tr>\n",
       "    <tr>\n",
       "      <th>774</th>\n",
       "      <td>2021-01-30 18:28:45+00:00</td>\n",
       "      <td>@clairecmc @mtgreenee  Where is the #Proof?  T...</td>\n",
       "    </tr>\n",
       "  </tbody>\n",
       "</table>\n",
       "<p>775 rows × 2 columns</p>\n",
       "</div>"
      ],
      "text/plain": [
       "                     datetime  \\\n",
       "0   2021-02-04 23:59:27+00:00   \n",
       "1   2021-02-04 23:49:06+00:00   \n",
       "2   2021-02-04 23:35:19+00:00   \n",
       "3   2021-02-04 23:11:26+00:00   \n",
       "4   2021-02-04 23:10:16+00:00   \n",
       "..                        ...   \n",
       "770 2021-01-30 19:36:08+00:00   \n",
       "771 2021-01-30 19:27:39+00:00   \n",
       "772 2021-01-30 19:13:08+00:00   \n",
       "773 2021-01-30 18:45:44+00:00   \n",
       "774 2021-01-30 18:28:45+00:00   \n",
       "\n",
       "                                                  text  \n",
       "0    @nprpolitics A dangerous precedent has now bee...  \n",
       "1    @BrendanKeefe Republican party has shrunk dram...  \n",
       "2    ARIZONA: Gosar Slams Establishment Republicans...  \n",
       "3    .@GOP always love to play victims w/o taking r...  \n",
       "4    Trump's law: is the Earth more spherical than ...  \n",
       "..                                                 ...  \n",
       "770  @laurenboebert tweeting other people’s jokes a...  \n",
       "771  @boltsbucsbabe @BenRaviolio @orlandosentinel I...  \n",
       "772  President Trump won by a landslide!!!! #stopth...  \n",
       "773  @laurenboebert Anyone who said #stopthesteal s...  \n",
       "774  @clairecmc @mtgreenee  Where is the #Proof?  T...  \n",
       "\n",
       "[775 rows x 2 columns]"
      ]
     },
     "execution_count": 124,
     "metadata": {},
     "output_type": "execute_result"
    }
   ],
   "source": [
    "df_tweets"
   ]
  },
  {
   "cell_type": "code",
   "execution_count": 125,
   "metadata": {},
   "outputs": [],
   "source": [
    "#Working with the tweet text data\n",
    "dirty_text = df_tweets['text'].copy()"
   ]
  },
  {
   "cell_type": "code",
   "execution_count": 126,
   "metadata": {},
   "outputs": [],
   "source": [
    "def clean(array_of_tweets):\n",
    "    \"\"\"This function will take a list of tweets and clean them in the following manner:\n",
    "    Make lowercase, Replace mentions with @user, and remove any links\"\"\"\n",
    "    for i in range(len(array_of_tweets)):\n",
    "        #make lower() and strip\n",
    "        new_text = array_of_tweets[i].lower().strip()\n",
    "        #replace @user \n",
    "        new_text = re.sub(r'\\@\\w+', '', new_text)\n",
    "        #remove links\n",
    "        new_text = re.sub(r'https?://\\w+\\.\\w+/?\\w+', '', new_text)\n",
    "        #remove (video)\n",
    "        new_text = re.sub(r'\\(video\\)', '', new_text)\n",
    "        #remove \\r and \\n\n",
    "        new_text = re.sub(r'\\r', '', new_text)\n",
    "        new_text = re.sub(r'\\n', '', new_text)\n",
    "        #remove hashtags\n",
    "        new_text = re.sub(r'#\\w+', '', new_text)\n",
    "        array_of_tweets[i] = new_text\n",
    "    return array_of_tweets"
   ]
  },
  {
   "cell_type": "code",
   "execution_count": 127,
   "metadata": {},
   "outputs": [],
   "source": [
    "#Get clean_text\n",
    "clean_text = clean(dirty_text)"
   ]
  },
  {
   "cell_type": "code",
   "execution_count": 128,
   "metadata": {},
   "outputs": [
    {
     "name": "stdout",
     "output_type": "stream",
     "text": [
      "@nprpolitics A dangerous precedent has now been set the left is now actively trying silence the minority party #wontforget #GOP #TrumpWon #StopTheSteal\n",
      "\n",
      " a dangerous precedent has now been set the left is now actively trying silence the minority party    \n",
      "\n",
      "@BrendanKeefe Republican party has shrunk dramatically in the last two months: poll #Republicans #GOP #Trump #stopthesteal https://t.co/t0BILSi237\n",
      "\n",
      " republican party has shrunk dramatically in the last two months: poll     \n",
      "\n",
      "ARIZONA: Gosar Slams Establishment Republicans For Labeling #StopTheSteal Push For Election Integrity ‘Sedition’ via @nationalfile https://t.co/0f6Kh970Hb\n",
      "\n",
      "arizona: gosar slams establishment republicans for labeling  push for election integrity ‘sedition’ via  \n",
      "\n",
      ".@GOP always love to play victims w/o taking responsibility for thier actions! #CancelCulture is the new #StopTheSteal for Republicans! It helps them unite their supporters &amp; fundraise against the so-called \"radical left.\"\n",
      "\n",
      ". always love to play victims w/o taking responsibility for thier actions!  is the new  for republicans! it helps them unite their supporters &amp; fundraise against the so-called \"radical left.\"\n",
      "\n",
      "Trump's law: is the Earth more spherical than round... like a pillowcase full of doorknobs https://t.co/UrQJiejRn5 #KAG #MAGA #StopTheSteal\n",
      "\n",
      "trump's law: is the earth more spherical than round... like a pillowcase full of doorknobs    \n",
      "\n"
     ]
    }
   ],
   "source": [
    "#testing the text\n",
    "for i in range(5):\n",
    "    print(df_tweets['text'][i])\n",
    "    print()\n",
    "    print(clean_text[i])\n",
    "    print()"
   ]
  },
  {
   "cell_type": "code",
   "execution_count": 129,
   "metadata": {},
   "outputs": [],
   "source": [
    "#Making a column with the cleaned text\n",
    "df_tweets['cleaned text'] = clean_text"
   ]
  },
  {
   "cell_type": "code",
   "execution_count": 130,
   "metadata": {},
   "outputs": [
    {
     "data": {
      "text/html": [
       "<div>\n",
       "<style scoped>\n",
       "    .dataframe tbody tr th:only-of-type {\n",
       "        vertical-align: middle;\n",
       "    }\n",
       "\n",
       "    .dataframe tbody tr th {\n",
       "        vertical-align: top;\n",
       "    }\n",
       "\n",
       "    .dataframe thead th {\n",
       "        text-align: right;\n",
       "    }\n",
       "</style>\n",
       "<table border=\"1\" class=\"dataframe\">\n",
       "  <thead>\n",
       "    <tr style=\"text-align: right;\">\n",
       "      <th></th>\n",
       "      <th>datetime</th>\n",
       "      <th>text</th>\n",
       "      <th>cleaned text</th>\n",
       "    </tr>\n",
       "  </thead>\n",
       "  <tbody>\n",
       "    <tr>\n",
       "      <th>0</th>\n",
       "      <td>2021-02-04 23:59:27+00:00</td>\n",
       "      <td>@nprpolitics A dangerous precedent has now bee...</td>\n",
       "      <td>a dangerous precedent has now been set the le...</td>\n",
       "    </tr>\n",
       "    <tr>\n",
       "      <th>1</th>\n",
       "      <td>2021-02-04 23:49:06+00:00</td>\n",
       "      <td>@BrendanKeefe Republican party has shrunk dram...</td>\n",
       "      <td>republican party has shrunk dramatically in t...</td>\n",
       "    </tr>\n",
       "    <tr>\n",
       "      <th>2</th>\n",
       "      <td>2021-02-04 23:35:19+00:00</td>\n",
       "      <td>ARIZONA: Gosar Slams Establishment Republicans...</td>\n",
       "      <td>arizona: gosar slams establishment republicans...</td>\n",
       "    </tr>\n",
       "    <tr>\n",
       "      <th>3</th>\n",
       "      <td>2021-02-04 23:11:26+00:00</td>\n",
       "      <td>.@GOP always love to play victims w/o taking r...</td>\n",
       "      <td>. always love to play victims w/o taking respo...</td>\n",
       "    </tr>\n",
       "    <tr>\n",
       "      <th>4</th>\n",
       "      <td>2021-02-04 23:10:16+00:00</td>\n",
       "      <td>Trump's law: is the Earth more spherical than ...</td>\n",
       "      <td>trump's law: is the earth more spherical than ...</td>\n",
       "    </tr>\n",
       "    <tr>\n",
       "      <th>...</th>\n",
       "      <td>...</td>\n",
       "      <td>...</td>\n",
       "      <td>...</td>\n",
       "    </tr>\n",
       "    <tr>\n",
       "      <th>770</th>\n",
       "      <td>2021-01-30 19:36:08+00:00</td>\n",
       "      <td>@laurenboebert tweeting other people’s jokes a...</td>\n",
       "      <td>tweeting other people’s jokes as your own now?</td>\n",
       "    </tr>\n",
       "    <tr>\n",
       "      <th>771</th>\n",
       "      <td>2021-01-30 19:27:39+00:00</td>\n",
       "      <td>@boltsbucsbabe @BenRaviolio @orlandosentinel I...</td>\n",
       "      <td>it’s fake news!</td>\n",
       "    </tr>\n",
       "    <tr>\n",
       "      <th>772</th>\n",
       "      <td>2021-01-30 19:13:08+00:00</td>\n",
       "      <td>President Trump won by a landslide!!!! #stopth...</td>\n",
       "      <td>president trump won by a landslide!!!! !!! !!!!!</td>\n",
       "    </tr>\n",
       "    <tr>\n",
       "      <th>773</th>\n",
       "      <td>2021-01-30 18:45:44+00:00</td>\n",
       "      <td>@laurenboebert Anyone who said #stopthesteal s...</td>\n",
       "      <td>anyone who said  should be booted from congress</td>\n",
       "    </tr>\n",
       "    <tr>\n",
       "      <th>774</th>\n",
       "      <td>2021-01-30 18:28:45+00:00</td>\n",
       "      <td>@clairecmc @mtgreenee  Where is the #Proof?  T...</td>\n",
       "      <td>where is the ?  trump lost over 90 frivolou...</td>\n",
       "    </tr>\n",
       "  </tbody>\n",
       "</table>\n",
       "<p>775 rows × 3 columns</p>\n",
       "</div>"
      ],
      "text/plain": [
       "                     datetime  \\\n",
       "0   2021-02-04 23:59:27+00:00   \n",
       "1   2021-02-04 23:49:06+00:00   \n",
       "2   2021-02-04 23:35:19+00:00   \n",
       "3   2021-02-04 23:11:26+00:00   \n",
       "4   2021-02-04 23:10:16+00:00   \n",
       "..                        ...   \n",
       "770 2021-01-30 19:36:08+00:00   \n",
       "771 2021-01-30 19:27:39+00:00   \n",
       "772 2021-01-30 19:13:08+00:00   \n",
       "773 2021-01-30 18:45:44+00:00   \n",
       "774 2021-01-30 18:28:45+00:00   \n",
       "\n",
       "                                                  text  \\\n",
       "0    @nprpolitics A dangerous precedent has now bee...   \n",
       "1    @BrendanKeefe Republican party has shrunk dram...   \n",
       "2    ARIZONA: Gosar Slams Establishment Republicans...   \n",
       "3    .@GOP always love to play victims w/o taking r...   \n",
       "4    Trump's law: is the Earth more spherical than ...   \n",
       "..                                                 ...   \n",
       "770  @laurenboebert tweeting other people’s jokes a...   \n",
       "771  @boltsbucsbabe @BenRaviolio @orlandosentinel I...   \n",
       "772  President Trump won by a landslide!!!! #stopth...   \n",
       "773  @laurenboebert Anyone who said #stopthesteal s...   \n",
       "774  @clairecmc @mtgreenee  Where is the #Proof?  T...   \n",
       "\n",
       "                                          cleaned text  \n",
       "0     a dangerous precedent has now been set the le...  \n",
       "1     republican party has shrunk dramatically in t...  \n",
       "2    arizona: gosar slams establishment republicans...  \n",
       "3    . always love to play victims w/o taking respo...  \n",
       "4    trump's law: is the earth more spherical than ...  \n",
       "..                                                 ...  \n",
       "770     tweeting other people’s jokes as your own now?  \n",
       "771                                   it’s fake news!   \n",
       "772  president trump won by a landslide!!!! !!! !!!!!   \n",
       "773    anyone who said  should be booted from congress  \n",
       "774     where is the ?  trump lost over 90 frivolou...  \n",
       "\n",
       "[775 rows x 3 columns]"
      ]
     },
     "execution_count": 130,
     "metadata": {},
     "output_type": "execute_result"
    }
   ],
   "source": [
    "df_tweets"
   ]
  },
  {
   "cell_type": "code",
   "execution_count": 131,
   "metadata": {},
   "outputs": [
    {
     "name": "stderr",
     "output_type": "stream",
     "text": [
      "100%|██████████████████████████████████████████████████████████████████████████████| 775/775 [00:00<00:00, 5331.81it/s]\n"
     ]
    }
   ],
   "source": [
    "#Using Vader to find perform sentiment analysis\n",
    "analyzer = SentimentIntensityAnalyzer()\n",
    "sentiment = []\n",
    "for i in tqdm.tqdm(df_tweets['cleaned text'].values):\n",
    "    score = analyzer.polarity_scores(i)['compound']\n",
    "    sentiment.append(score)"
   ]
  },
  {
   "cell_type": "code",
   "execution_count": 132,
   "metadata": {},
   "outputs": [],
   "source": [
    "df_tweets['sentiment_score'] = sentiment"
   ]
  },
  {
   "cell_type": "code",
   "execution_count": 133,
   "metadata": {},
   "outputs": [
    {
     "name": "stdout",
     "output_type": "stream",
     "text": [
      " a dangerous precedent has now been set the left is now actively trying silence the minority party     0.2263\n",
      "\n",
      " republican party has shrunk dramatically in the last two months: poll      0.4019\n",
      "\n",
      "arizona: gosar slams establishment republicans for labeling  push for election integrity ‘sedition’ via   0.3818\n",
      "\n",
      ". always love to play victims w/o taking responsibility for thier actions!  is the new  for republicans! it helps them unite their supporters &amp; fundraise against the so-called \"radical left.\" 0.8856\n",
      "\n",
      "trump's law: is the earth more spherical than round... like a pillowcase full of doorknobs     0.3612\n",
      "\n",
      "  who stole her ass?  -0.5423\n",
      "\n",
      " not testifying in his  trial is essentially throwing  under the bus. trump won’t say in court what he said at the   rally. rioters said  invited em to the . trump don’t give a shit abt ! those rioters are on their own.  -0.5983\n",
      "\n",
      "voting technology company  files $2.7 billion lawsuit against , rudy giuliani and sidney powell over 'disinformation campaign'. they should sue that sammy davis, jr. lookalike who created the lies and movement.  -0.4019\n",
      "\n",
      "   hey shit mods how about you gtfo and give the power back to the real mods -0.5574\n",
      "\n",
      " stop the steal     they don’t want us to say it so i did.  -0.6249\n",
      "\n"
     ]
    }
   ],
   "source": [
    "for i in range(10):\n",
    "    print(df_tweets['cleaned text'][i], df_tweets['sentiment_score'][i])\n",
    "    print()"
   ]
  },
  {
   "cell_type": "code",
   "execution_count": 134,
   "metadata": {},
   "outputs": [
    {
     "data": {
      "text/html": [
       "<div>\n",
       "<style scoped>\n",
       "    .dataframe tbody tr th:only-of-type {\n",
       "        vertical-align: middle;\n",
       "    }\n",
       "\n",
       "    .dataframe tbody tr th {\n",
       "        vertical-align: top;\n",
       "    }\n",
       "\n",
       "    .dataframe thead th {\n",
       "        text-align: right;\n",
       "    }\n",
       "</style>\n",
       "<table border=\"1\" class=\"dataframe\">\n",
       "  <thead>\n",
       "    <tr style=\"text-align: right;\">\n",
       "      <th></th>\n",
       "      <th>datetime</th>\n",
       "      <th>text</th>\n",
       "      <th>cleaned text</th>\n",
       "      <th>sentiment_score</th>\n",
       "    </tr>\n",
       "  </thead>\n",
       "  <tbody>\n",
       "    <tr>\n",
       "      <th>0</th>\n",
       "      <td>2021-02-04 23:59:27+00:00</td>\n",
       "      <td>@nprpolitics A dangerous precedent has now bee...</td>\n",
       "      <td>a dangerous precedent has now been set the le...</td>\n",
       "      <td>0.2263</td>\n",
       "    </tr>\n",
       "    <tr>\n",
       "      <th>1</th>\n",
       "      <td>2021-02-04 23:49:06+00:00</td>\n",
       "      <td>@BrendanKeefe Republican party has shrunk dram...</td>\n",
       "      <td>republican party has shrunk dramatically in t...</td>\n",
       "      <td>0.4019</td>\n",
       "    </tr>\n",
       "    <tr>\n",
       "      <th>2</th>\n",
       "      <td>2021-02-04 23:35:19+00:00</td>\n",
       "      <td>ARIZONA: Gosar Slams Establishment Republicans...</td>\n",
       "      <td>arizona: gosar slams establishment republicans...</td>\n",
       "      <td>0.3818</td>\n",
       "    </tr>\n",
       "    <tr>\n",
       "      <th>3</th>\n",
       "      <td>2021-02-04 23:11:26+00:00</td>\n",
       "      <td>.@GOP always love to play victims w/o taking r...</td>\n",
       "      <td>. always love to play victims w/o taking respo...</td>\n",
       "      <td>0.8856</td>\n",
       "    </tr>\n",
       "    <tr>\n",
       "      <th>4</th>\n",
       "      <td>2021-02-04 23:10:16+00:00</td>\n",
       "      <td>Trump's law: is the Earth more spherical than ...</td>\n",
       "      <td>trump's law: is the earth more spherical than ...</td>\n",
       "      <td>0.3612</td>\n",
       "    </tr>\n",
       "    <tr>\n",
       "      <th>...</th>\n",
       "      <td>...</td>\n",
       "      <td>...</td>\n",
       "      <td>...</td>\n",
       "      <td>...</td>\n",
       "    </tr>\n",
       "    <tr>\n",
       "      <th>770</th>\n",
       "      <td>2021-01-30 19:36:08+00:00</td>\n",
       "      <td>@laurenboebert tweeting other people’s jokes a...</td>\n",
       "      <td>tweeting other people’s jokes as your own now?</td>\n",
       "      <td>0.2500</td>\n",
       "    </tr>\n",
       "    <tr>\n",
       "      <th>771</th>\n",
       "      <td>2021-01-30 19:27:39+00:00</td>\n",
       "      <td>@boltsbucsbabe @BenRaviolio @orlandosentinel I...</td>\n",
       "      <td>it’s fake news!</td>\n",
       "      <td>-0.5255</td>\n",
       "    </tr>\n",
       "    <tr>\n",
       "      <th>772</th>\n",
       "      <td>2021-01-30 19:13:08+00:00</td>\n",
       "      <td>President Trump won by a landslide!!!! #stopth...</td>\n",
       "      <td>president trump won by a landslide!!!! !!! !!!!!</td>\n",
       "      <td>0.7067</td>\n",
       "    </tr>\n",
       "    <tr>\n",
       "      <th>773</th>\n",
       "      <td>2021-01-30 18:45:44+00:00</td>\n",
       "      <td>@laurenboebert Anyone who said #stopthesteal s...</td>\n",
       "      <td>anyone who said  should be booted from congress</td>\n",
       "      <td>0.0000</td>\n",
       "    </tr>\n",
       "    <tr>\n",
       "      <th>774</th>\n",
       "      <td>2021-01-30 18:28:45+00:00</td>\n",
       "      <td>@clairecmc @mtgreenee  Where is the #Proof?  T...</td>\n",
       "      <td>where is the ?  trump lost over 90 frivolou...</td>\n",
       "      <td>-0.5267</td>\n",
       "    </tr>\n",
       "  </tbody>\n",
       "</table>\n",
       "<p>775 rows × 4 columns</p>\n",
       "</div>"
      ],
      "text/plain": [
       "                     datetime  \\\n",
       "0   2021-02-04 23:59:27+00:00   \n",
       "1   2021-02-04 23:49:06+00:00   \n",
       "2   2021-02-04 23:35:19+00:00   \n",
       "3   2021-02-04 23:11:26+00:00   \n",
       "4   2021-02-04 23:10:16+00:00   \n",
       "..                        ...   \n",
       "770 2021-01-30 19:36:08+00:00   \n",
       "771 2021-01-30 19:27:39+00:00   \n",
       "772 2021-01-30 19:13:08+00:00   \n",
       "773 2021-01-30 18:45:44+00:00   \n",
       "774 2021-01-30 18:28:45+00:00   \n",
       "\n",
       "                                                  text  \\\n",
       "0    @nprpolitics A dangerous precedent has now bee...   \n",
       "1    @BrendanKeefe Republican party has shrunk dram...   \n",
       "2    ARIZONA: Gosar Slams Establishment Republicans...   \n",
       "3    .@GOP always love to play victims w/o taking r...   \n",
       "4    Trump's law: is the Earth more spherical than ...   \n",
       "..                                                 ...   \n",
       "770  @laurenboebert tweeting other people’s jokes a...   \n",
       "771  @boltsbucsbabe @BenRaviolio @orlandosentinel I...   \n",
       "772  President Trump won by a landslide!!!! #stopth...   \n",
       "773  @laurenboebert Anyone who said #stopthesteal s...   \n",
       "774  @clairecmc @mtgreenee  Where is the #Proof?  T...   \n",
       "\n",
       "                                          cleaned text  sentiment_score  \n",
       "0     a dangerous precedent has now been set the le...           0.2263  \n",
       "1     republican party has shrunk dramatically in t...           0.4019  \n",
       "2    arizona: gosar slams establishment republicans...           0.3818  \n",
       "3    . always love to play victims w/o taking respo...           0.8856  \n",
       "4    trump's law: is the earth more spherical than ...           0.3612  \n",
       "..                                                 ...              ...  \n",
       "770     tweeting other people’s jokes as your own now?           0.2500  \n",
       "771                                   it’s fake news!           -0.5255  \n",
       "772  president trump won by a landslide!!!! !!! !!!!!            0.7067  \n",
       "773    anyone who said  should be booted from congress           0.0000  \n",
       "774     where is the ?  trump lost over 90 frivolou...          -0.5267  \n",
       "\n",
       "[775 rows x 4 columns]"
      ]
     },
     "execution_count": 134,
     "metadata": {},
     "output_type": "execute_result"
    }
   ],
   "source": [
    "df_tweets"
   ]
  },
  {
   "cell_type": "code",
   "execution_count": 135,
   "metadata": {},
   "outputs": [],
   "source": [
    "#calculating the average of all sentiment\n",
    "total = 0\n",
    "for i in df_tweets['sentiment_score']:\n",
    "    total += i\n",
    "avg = total / len(df_tweets['sentiment_score'])"
   ]
  },
  {
   "cell_type": "code",
   "execution_count": 136,
   "metadata": {},
   "outputs": [
    {
     "data": {
      "text/plain": [
       "-0.07720851612903226"
      ]
     },
     "execution_count": 136,
     "metadata": {},
     "output_type": "execute_result"
    }
   ],
   "source": [
    "avg"
   ]
  },
  {
   "cell_type": "code",
   "execution_count": 137,
   "metadata": {},
   "outputs": [],
   "source": [
    "#Creating date column with the date \n",
    "df_tweets['date'] = df_tweets['datetime'].dt.date"
   ]
  },
  {
   "cell_type": "code",
   "execution_count": 138,
   "metadata": {},
   "outputs": [
    {
     "data": {
      "text/html": [
       "<div>\n",
       "<style scoped>\n",
       "    .dataframe tbody tr th:only-of-type {\n",
       "        vertical-align: middle;\n",
       "    }\n",
       "\n",
       "    .dataframe tbody tr th {\n",
       "        vertical-align: top;\n",
       "    }\n",
       "\n",
       "    .dataframe thead th {\n",
       "        text-align: right;\n",
       "    }\n",
       "</style>\n",
       "<table border=\"1\" class=\"dataframe\">\n",
       "  <thead>\n",
       "    <tr style=\"text-align: right;\">\n",
       "      <th></th>\n",
       "      <th>datetime</th>\n",
       "      <th>text</th>\n",
       "      <th>cleaned text</th>\n",
       "      <th>sentiment_score</th>\n",
       "      <th>date</th>\n",
       "    </tr>\n",
       "  </thead>\n",
       "  <tbody>\n",
       "    <tr>\n",
       "      <th>0</th>\n",
       "      <td>2021-02-04 23:59:27+00:00</td>\n",
       "      <td>@nprpolitics A dangerous precedent has now bee...</td>\n",
       "      <td>a dangerous precedent has now been set the le...</td>\n",
       "      <td>0.2263</td>\n",
       "      <td>2021-02-04</td>\n",
       "    </tr>\n",
       "    <tr>\n",
       "      <th>1</th>\n",
       "      <td>2021-02-04 23:49:06+00:00</td>\n",
       "      <td>@BrendanKeefe Republican party has shrunk dram...</td>\n",
       "      <td>republican party has shrunk dramatically in t...</td>\n",
       "      <td>0.4019</td>\n",
       "      <td>2021-02-04</td>\n",
       "    </tr>\n",
       "    <tr>\n",
       "      <th>2</th>\n",
       "      <td>2021-02-04 23:35:19+00:00</td>\n",
       "      <td>ARIZONA: Gosar Slams Establishment Republicans...</td>\n",
       "      <td>arizona: gosar slams establishment republicans...</td>\n",
       "      <td>0.3818</td>\n",
       "      <td>2021-02-04</td>\n",
       "    </tr>\n",
       "  </tbody>\n",
       "</table>\n",
       "</div>"
      ],
      "text/plain": [
       "                   datetime  \\\n",
       "0 2021-02-04 23:59:27+00:00   \n",
       "1 2021-02-04 23:49:06+00:00   \n",
       "2 2021-02-04 23:35:19+00:00   \n",
       "\n",
       "                                                text  \\\n",
       "0  @nprpolitics A dangerous precedent has now bee...   \n",
       "1  @BrendanKeefe Republican party has shrunk dram...   \n",
       "2  ARIZONA: Gosar Slams Establishment Republicans...   \n",
       "\n",
       "                                        cleaned text  sentiment_score  \\\n",
       "0   a dangerous precedent has now been set the le...           0.2263   \n",
       "1   republican party has shrunk dramatically in t...           0.4019   \n",
       "2  arizona: gosar slams establishment republicans...           0.3818   \n",
       "\n",
       "         date  \n",
       "0  2021-02-04  \n",
       "1  2021-02-04  \n",
       "2  2021-02-04  "
      ]
     },
     "execution_count": 138,
     "metadata": {},
     "output_type": "execute_result"
    }
   ],
   "source": [
    "df_tweets.head(3)"
   ]
  },
  {
   "cell_type": "code",
   "execution_count": 139,
   "metadata": {},
   "outputs": [],
   "source": [
    "#Splitting the dataframe by date, getting the sum and count of the sentiment to calculate average\n",
    "tweets_by_date = df_tweets.groupby('date')['sentiment_score'].agg(['sum', 'count'])"
   ]
  },
  {
   "cell_type": "code",
   "execution_count": 140,
   "metadata": {},
   "outputs": [],
   "source": [
    "#Creating an average column\n",
    "tweets_by_date['avg'] = tweets_by_date['sum'] / tweets_by_date['count']"
   ]
  },
  {
   "cell_type": "code",
   "execution_count": 141,
   "metadata": {},
   "outputs": [],
   "source": [
    "#Drop sum and rename count\n",
    "tweets_by_date.drop('sum', axis=1, inplace=True)\n",
    "tweets_by_date.columns = ['tweet_count', 'total_avg']"
   ]
  },
  {
   "cell_type": "code",
   "execution_count": 142,
   "metadata": {},
   "outputs": [
    {
     "name": "stdout",
     "output_type": "stream",
     "text": [
      "                sum  count  positive_avg\n",
      "date                                    \n",
      "2021-01-30   3.7318     10      0.373180\n",
      "2021-01-31   8.3524     20      0.417620\n",
      "2021-02-01  24.0089     54      0.444609\n",
      "2021-02-02  19.3368     43      0.449693\n",
      "2021-02-03  29.9821     56      0.535395\n",
      "2021-02-04  13.0715     32      0.408484\n",
      "                sum  count  negative_avg\n",
      "date                                    \n",
      "2021-01-30  -6.7541     13     -0.519546\n",
      "2021-01-31 -26.4528     48     -0.551100\n",
      "2021-02-01 -34.9826     58     -0.603148\n",
      "2021-02-02 -34.7039     68     -0.510351\n",
      "2021-02-03 -37.4106     66     -0.566827\n",
      "2021-02-04 -18.0161     36     -0.500447\n"
     ]
    }
   ],
   "source": [
    "#Getting all the positive values\n",
    "positive_sentiment = df_tweets[df_tweets['sentiment_score'] > 0].groupby('date')['sentiment_score'].agg(['sum', 'count'])\n",
    "#Getting the positive average\n",
    "positive_sentiment['positive_avg'] = positive_sentiment['sum'] / positive_sentiment['count']\n",
    "print(positive_sentiment)\n",
    "\n",
    "#Getting all the negative values\n",
    "negative_sentiment = df_tweets[df_tweets['sentiment_score'] < 0].groupby('date')['sentiment_score'].agg(['sum', 'count']) \n",
    "#Getting negative average\n",
    "negative_sentiment['negative_avg'] = negative_sentiment['sum'] / negative_sentiment['count']\n",
    "print(negative_sentiment)"
   ]
  },
  {
   "cell_type": "code",
   "execution_count": 143,
   "metadata": {},
   "outputs": [],
   "source": [
    "#Dropping sum\n",
    "positive_sentiment.drop('sum', axis=1, inplace=True)\n",
    "negative_sentiment.drop('sum', axis=1, inplace=True)\n",
    "# Renaming the columns\n",
    "positive_sentiment.columns = ['positive_count', 'positive_avg']\n",
    "negative_sentiment.columns = ['negative_count', 'negative_avg']"
   ]
  },
  {
   "cell_type": "code",
   "execution_count": 144,
   "metadata": {},
   "outputs": [],
   "source": [
    "#Adding the positive and the negative to combined_tweets\n",
    "all_sentiment = positive_sentiment.join(negative_sentiment, how='inner')\n",
    "df_combined_tweets = tweets_by_date.join(all_sentiment, how='inner')\n",
    "#Add day column for plots\n",
    "df_combined_tweets['day'] = df_combined_tweets.index"
   ]
  },
  {
   "cell_type": "code",
   "execution_count": 145,
   "metadata": {},
   "outputs": [
    {
     "data": {
      "text/html": [
       "<div>\n",
       "<style scoped>\n",
       "    .dataframe tbody tr th:only-of-type {\n",
       "        vertical-align: middle;\n",
       "    }\n",
       "\n",
       "    .dataframe tbody tr th {\n",
       "        vertical-align: top;\n",
       "    }\n",
       "\n",
       "    .dataframe thead th {\n",
       "        text-align: right;\n",
       "    }\n",
       "</style>\n",
       "<table border=\"1\" class=\"dataframe\">\n",
       "  <thead>\n",
       "    <tr style=\"text-align: right;\">\n",
       "      <th></th>\n",
       "      <th>tweet_count</th>\n",
       "      <th>total_avg</th>\n",
       "      <th>positive_count</th>\n",
       "      <th>positive_avg</th>\n",
       "      <th>negative_count</th>\n",
       "      <th>negative_avg</th>\n",
       "      <th>day</th>\n",
       "    </tr>\n",
       "    <tr>\n",
       "      <th>date</th>\n",
       "      <th></th>\n",
       "      <th></th>\n",
       "      <th></th>\n",
       "      <th></th>\n",
       "      <th></th>\n",
       "      <th></th>\n",
       "      <th></th>\n",
       "    </tr>\n",
       "  </thead>\n",
       "  <tbody>\n",
       "    <tr>\n",
       "      <th>2021-01-30</th>\n",
       "      <td>30</td>\n",
       "      <td>-0.100743</td>\n",
       "      <td>10</td>\n",
       "      <td>0.373180</td>\n",
       "      <td>13</td>\n",
       "      <td>-0.519546</td>\n",
       "      <td>2021-01-30</td>\n",
       "    </tr>\n",
       "    <tr>\n",
       "      <th>2021-01-31</th>\n",
       "      <td>90</td>\n",
       "      <td>-0.201116</td>\n",
       "      <td>20</td>\n",
       "      <td>0.417620</td>\n",
       "      <td>48</td>\n",
       "      <td>-0.551100</td>\n",
       "      <td>2021-01-31</td>\n",
       "    </tr>\n",
       "    <tr>\n",
       "      <th>2021-02-01</th>\n",
       "      <td>143</td>\n",
       "      <td>-0.076739</td>\n",
       "      <td>54</td>\n",
       "      <td>0.444609</td>\n",
       "      <td>58</td>\n",
       "      <td>-0.603148</td>\n",
       "      <td>2021-02-01</td>\n",
       "    </tr>\n",
       "    <tr>\n",
       "      <th>2021-02-02</th>\n",
       "      <td>148</td>\n",
       "      <td>-0.103832</td>\n",
       "      <td>43</td>\n",
       "      <td>0.449693</td>\n",
       "      <td>68</td>\n",
       "      <td>-0.510351</td>\n",
       "      <td>2021-02-02</td>\n",
       "    </tr>\n",
       "    <tr>\n",
       "      <th>2021-02-03</th>\n",
       "      <td>215</td>\n",
       "      <td>-0.034551</td>\n",
       "      <td>56</td>\n",
       "      <td>0.535395</td>\n",
       "      <td>66</td>\n",
       "      <td>-0.566827</td>\n",
       "      <td>2021-02-03</td>\n",
       "    </tr>\n",
       "    <tr>\n",
       "      <th>2021-02-04</th>\n",
       "      <td>149</td>\n",
       "      <td>-0.033185</td>\n",
       "      <td>32</td>\n",
       "      <td>0.408484</td>\n",
       "      <td>36</td>\n",
       "      <td>-0.500447</td>\n",
       "      <td>2021-02-04</td>\n",
       "    </tr>\n",
       "  </tbody>\n",
       "</table>\n",
       "</div>"
      ],
      "text/plain": [
       "            tweet_count  total_avg  positive_count  positive_avg  \\\n",
       "date                                                               \n",
       "2021-01-30           30  -0.100743              10      0.373180   \n",
       "2021-01-31           90  -0.201116              20      0.417620   \n",
       "2021-02-01          143  -0.076739              54      0.444609   \n",
       "2021-02-02          148  -0.103832              43      0.449693   \n",
       "2021-02-03          215  -0.034551              56      0.535395   \n",
       "2021-02-04          149  -0.033185              32      0.408484   \n",
       "\n",
       "            negative_count  negative_avg         day  \n",
       "date                                                  \n",
       "2021-01-30              13     -0.519546  2021-01-30  \n",
       "2021-01-31              48     -0.551100  2021-01-31  \n",
       "2021-02-01              58     -0.603148  2021-02-01  \n",
       "2021-02-02              68     -0.510351  2021-02-02  \n",
       "2021-02-03              66     -0.566827  2021-02-03  \n",
       "2021-02-04              36     -0.500447  2021-02-04  "
      ]
     },
     "execution_count": 145,
     "metadata": {},
     "output_type": "execute_result"
    }
   ],
   "source": [
    "df_combined_tweets"
   ]
  },
  {
   "cell_type": "code",
   "execution_count": 146,
   "metadata": {},
   "outputs": [],
   "source": [
    "df_combined_tweets.to_csv('combined_tweets.csv', encoding='utf8')"
   ]
  },
  {
   "cell_type": "code",
   "execution_count": 147,
   "metadata": {},
   "outputs": [
    {
     "data": {
      "text/plain": [
       "<AxesSubplot:xlabel='date', ylabel='total_avg'>"
      ]
     },
     "execution_count": 147,
     "metadata": {},
     "output_type": "execute_result"
    },
    {
     "data": {
      "image/png": "[encoded data removed]",
      "text/plain": [
       "<Figure size 432x288 with 1 Axes>"
      ]
     },
     "metadata": {
      "needs_background": "light"
     },
     "output_type": "display_data"
    }
   ],
   "source": [
    "#Scatterplot over the average\n",
    "f, ax = plt.subplots()\n",
    "sns.scatterplot(x='date', y='total_avg', data=df_combined_tweets, ax=ax)\n",
    "sns.scatterplot(x='date', y='positive_avg', data=df_combined_tweets, ax=ax)\n",
    "sns.scatterplot(x='date', y='negative_avg', data=df_combined_tweets, ax=ax)"
   ]
  },
  {
   "cell_type": "code",
   "execution_count": 148,
   "metadata": {},
   "outputs": [
    {
     "data": {
      "text/plain": [
       "<AxesSubplot:xlabel='datetime', ylabel='sentiment_score'>"
      ]
     },
     "execution_count": 148,
     "metadata": {},
     "output_type": "execute_result"
    },
    {
     "data": {
      "image/png": "[encoded data removed]",
      "text/plain": [
       "<Figure size 720x720 with 1 Axes>"
      ]
     },
     "metadata": {
      "needs_background": "light"
     },
     "output_type": "display_data"
    }
   ],
   "source": [
    "df_tweets.plot(x='datetime', y='sentiment_score', kind='scatter', figsize=(10,10))"
   ]
  },
  {
   "cell_type": "code",
   "execution_count": 274,
   "metadata": {},
   "outputs": [],
   "source": [
    "#Show all in a scatter plot -> motivate where we go\n",
    "#Average sentiment of all tweets over time\n",
    "#Average sentiment of negative tweets over time (as well)\n",
    "#Make curve for positive and negative\n",
    "\n",
    "#Bag of words -> look at what words are the most negative/positive\n",
    "# Word cloud \n",
    "\n",
    "#Polarization\n",
    "\n",
    "#Overvejelser:\n",
    "# Lexicon limitations -> words that have an absolute value"
   ]
  }
 ],
 "metadata": {
  "kernelspec": {
   "display_name": "Python 3 (ipykernel)",
   "language": "python",
   "name": "python3"
  },
  "language_info": {
   "codemirror_mode": {
    "name": "ipython",
    "version": 3
   },
   "file_extension": ".py",
   "mimetype": "text/x-python",
   "name": "python",
   "nbconvert_exporter": "python",
   "pygments_lexer": "ipython3",
   "version": "3.9.12"
  },
  "latex_envs": {
   "bibliofile": "biblio.bib",
   "cite_by": "apalike",
   "current_citInitial": 1,
   "eqLabelWithNumbers": true,
   "eqNumInitial": 0
  },
  "toc": {
   "nav_menu": {
    "height": "328px",
    "width": "252px"
   },
   "navigate_menu": true,
   "number_sections": true,
   "sideBar": true,
   "threshold": 4,
   "toc_cell": false,
   "toc_section_display": "block",
   "toc_window_display": false
  }
 },
 "nbformat": 4,
 "nbformat_minor": 4
}
